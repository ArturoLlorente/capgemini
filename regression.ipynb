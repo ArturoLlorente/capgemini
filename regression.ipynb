{
 "cells": [
  {
   "cell_type": "code",
   "execution_count": 3,
   "metadata": {},
   "outputs": [],
   "source": [
    "import numpy as np\n",
    "import pandas as pd\n",
    "\n",
    "import torch\n",
    "import torch.nn as nn\n",
    "from torch.utils.data import DataLoader, Dataset, random_split\n",
    "\n",
    "import pytorch_lightning as pl\n",
    "from pytorch_lightning.callbacks import EarlyStopping\n",
    "from sklearn.preprocessing import MinMaxScaler\n",
    "import matplotlib.pyplot as plt"
   ]
  },
  {
   "cell_type": "code",
   "execution_count": 4,
   "metadata": {},
   "outputs": [],
   "source": [
    "# Especificar una seed para reproducibilidad de resultados\n",
    "def set_seed(seed) -> None:\n",
    "    np.random.seed(seed)\n",
    "    torch.manual_seed(seed)\n",
    "    torch.cuda.manual_seed(seed)\n",
    "    torch.backends.cudnn.deterministic = True\n",
    "    torch.backends.cudnn.benchmark = False\n",
    "    \n",
    "seed = 56\n",
    "set_seed(seed)"
   ]
  },
  {
   "cell_type": "markdown",
   "metadata": {},
   "source": [
    "# Dataset\n",
    "\n",
    "Para este ejercicio he elegido el dataset Beijing PM2.5.\n",
    "\n",
    "Este Dataset recoge datos de la contaminacion de del aire en Pekin en el periodo del 1/1/2010 al 31/12/2014. Las features disponibles son:\n",
    " - ano, mes, dia y hora\n",
    " - DEWP: Rocio\n",
    " - TEMP: Temperatura\n",
    " - PRES: Presion\n",
    " - cbwd: Direccion del viento acumulada\n",
    " - lws: Velocidad del viento acumulada\n",
    " - Is: Horas de nieve acumuladas\n",
    " - Ir: horas de lluvia acumuladas\n",
    "\n",
    "La variable de regresion es 'pm2.5', de la cual no tenemos los datos completos. Se refiere a la concentracion de pm2.5 (particulas de conatminacion menores a 2.5 micrometros de diametro)."
   ]
  },
  {
   "cell_type": "code",
   "execution_count": 5,
   "metadata": {},
   "outputs": [],
   "source": [
    "# Cargamos el dataset de la pagina web oficial y lo guardamos en un DataFrame\n",
    "url = 'https://archive.ics.uci.edu/ml/machine-learning-databases/00381/PRSA_data_2010.1.1-2014.12.31.csv'\n",
    "original_data = pd.read_csv(url)"
   ]
  },
  {
   "cell_type": "code",
   "execution_count": 6,
   "metadata": {},
   "outputs": [
    {
     "data": {
      "text/html": [
       "<div>\n",
       "<style scoped>\n",
       "    .dataframe tbody tr th:only-of-type {\n",
       "        vertical-align: middle;\n",
       "    }\n",
       "\n",
       "    .dataframe tbody tr th {\n",
       "        vertical-align: top;\n",
       "    }\n",
       "\n",
       "    .dataframe thead th {\n",
       "        text-align: right;\n",
       "    }\n",
       "</style>\n",
       "<table border=\"1\" class=\"dataframe\">\n",
       "  <thead>\n",
       "    <tr style=\"text-align: right;\">\n",
       "      <th></th>\n",
       "      <th>No</th>\n",
       "      <th>year</th>\n",
       "      <th>month</th>\n",
       "      <th>day</th>\n",
       "      <th>hour</th>\n",
       "      <th>pm2.5</th>\n",
       "      <th>DEWP</th>\n",
       "      <th>TEMP</th>\n",
       "      <th>PRES</th>\n",
       "      <th>cbwd</th>\n",
       "      <th>Iws</th>\n",
       "      <th>Is</th>\n",
       "      <th>Ir</th>\n",
       "    </tr>\n",
       "  </thead>\n",
       "  <tbody>\n",
       "    <tr>\n",
       "      <th>24</th>\n",
       "      <td>25</td>\n",
       "      <td>2010</td>\n",
       "      <td>1</td>\n",
       "      <td>2</td>\n",
       "      <td>0</td>\n",
       "      <td>129.0</td>\n",
       "      <td>-16</td>\n",
       "      <td>-4.0</td>\n",
       "      <td>1020.0</td>\n",
       "      <td>135</td>\n",
       "      <td>1.79</td>\n",
       "      <td>0</td>\n",
       "      <td>0</td>\n",
       "    </tr>\n",
       "    <tr>\n",
       "      <th>25</th>\n",
       "      <td>26</td>\n",
       "      <td>2010</td>\n",
       "      <td>1</td>\n",
       "      <td>2</td>\n",
       "      <td>1</td>\n",
       "      <td>148.0</td>\n",
       "      <td>-15</td>\n",
       "      <td>-4.0</td>\n",
       "      <td>1020.0</td>\n",
       "      <td>135</td>\n",
       "      <td>2.68</td>\n",
       "      <td>0</td>\n",
       "      <td>0</td>\n",
       "    </tr>\n",
       "    <tr>\n",
       "      <th>26</th>\n",
       "      <td>27</td>\n",
       "      <td>2010</td>\n",
       "      <td>1</td>\n",
       "      <td>2</td>\n",
       "      <td>2</td>\n",
       "      <td>159.0</td>\n",
       "      <td>-11</td>\n",
       "      <td>-5.0</td>\n",
       "      <td>1021.0</td>\n",
       "      <td>135</td>\n",
       "      <td>3.57</td>\n",
       "      <td>0</td>\n",
       "      <td>0</td>\n",
       "    </tr>\n",
       "    <tr>\n",
       "      <th>27</th>\n",
       "      <td>28</td>\n",
       "      <td>2010</td>\n",
       "      <td>1</td>\n",
       "      <td>2</td>\n",
       "      <td>3</td>\n",
       "      <td>181.0</td>\n",
       "      <td>-7</td>\n",
       "      <td>-5.0</td>\n",
       "      <td>1022.0</td>\n",
       "      <td>135</td>\n",
       "      <td>5.36</td>\n",
       "      <td>1</td>\n",
       "      <td>0</td>\n",
       "    </tr>\n",
       "    <tr>\n",
       "      <th>28</th>\n",
       "      <td>29</td>\n",
       "      <td>2010</td>\n",
       "      <td>1</td>\n",
       "      <td>2</td>\n",
       "      <td>4</td>\n",
       "      <td>138.0</td>\n",
       "      <td>-7</td>\n",
       "      <td>-5.0</td>\n",
       "      <td>1022.0</td>\n",
       "      <td>135</td>\n",
       "      <td>6.25</td>\n",
       "      <td>2</td>\n",
       "      <td>0</td>\n",
       "    </tr>\n",
       "    <tr>\n",
       "      <th>...</th>\n",
       "      <td>...</td>\n",
       "      <td>...</td>\n",
       "      <td>...</td>\n",
       "      <td>...</td>\n",
       "      <td>...</td>\n",
       "      <td>...</td>\n",
       "      <td>...</td>\n",
       "      <td>...</td>\n",
       "      <td>...</td>\n",
       "      <td>...</td>\n",
       "      <td>...</td>\n",
       "      <td>...</td>\n",
       "      <td>...</td>\n",
       "    </tr>\n",
       "    <tr>\n",
       "      <th>43819</th>\n",
       "      <td>43820</td>\n",
       "      <td>2014</td>\n",
       "      <td>12</td>\n",
       "      <td>31</td>\n",
       "      <td>19</td>\n",
       "      <td>8.0</td>\n",
       "      <td>-23</td>\n",
       "      <td>-2.0</td>\n",
       "      <td>1034.0</td>\n",
       "      <td>315</td>\n",
       "      <td>231.97</td>\n",
       "      <td>0</td>\n",
       "      <td>0</td>\n",
       "    </tr>\n",
       "    <tr>\n",
       "      <th>43820</th>\n",
       "      <td>43821</td>\n",
       "      <td>2014</td>\n",
       "      <td>12</td>\n",
       "      <td>31</td>\n",
       "      <td>20</td>\n",
       "      <td>10.0</td>\n",
       "      <td>-22</td>\n",
       "      <td>-3.0</td>\n",
       "      <td>1034.0</td>\n",
       "      <td>315</td>\n",
       "      <td>237.78</td>\n",
       "      <td>0</td>\n",
       "      <td>0</td>\n",
       "    </tr>\n",
       "    <tr>\n",
       "      <th>43821</th>\n",
       "      <td>43822</td>\n",
       "      <td>2014</td>\n",
       "      <td>12</td>\n",
       "      <td>31</td>\n",
       "      <td>21</td>\n",
       "      <td>10.0</td>\n",
       "      <td>-22</td>\n",
       "      <td>-3.0</td>\n",
       "      <td>1034.0</td>\n",
       "      <td>315</td>\n",
       "      <td>242.70</td>\n",
       "      <td>0</td>\n",
       "      <td>0</td>\n",
       "    </tr>\n",
       "    <tr>\n",
       "      <th>43822</th>\n",
       "      <td>43823</td>\n",
       "      <td>2014</td>\n",
       "      <td>12</td>\n",
       "      <td>31</td>\n",
       "      <td>22</td>\n",
       "      <td>8.0</td>\n",
       "      <td>-22</td>\n",
       "      <td>-4.0</td>\n",
       "      <td>1034.0</td>\n",
       "      <td>315</td>\n",
       "      <td>246.72</td>\n",
       "      <td>0</td>\n",
       "      <td>0</td>\n",
       "    </tr>\n",
       "    <tr>\n",
       "      <th>43823</th>\n",
       "      <td>43824</td>\n",
       "      <td>2014</td>\n",
       "      <td>12</td>\n",
       "      <td>31</td>\n",
       "      <td>23</td>\n",
       "      <td>12.0</td>\n",
       "      <td>-21</td>\n",
       "      <td>-3.0</td>\n",
       "      <td>1034.0</td>\n",
       "      <td>315</td>\n",
       "      <td>249.85</td>\n",
       "      <td>0</td>\n",
       "      <td>0</td>\n",
       "    </tr>\n",
       "  </tbody>\n",
       "</table>\n",
       "<p>41757 rows × 13 columns</p>\n",
       "</div>"
      ],
      "text/plain": [
       "          No  year  month  day  hour  pm2.5  DEWP  TEMP    PRES  cbwd     Iws  \\\n",
       "24        25  2010      1    2     0  129.0   -16  -4.0  1020.0   135    1.79   \n",
       "25        26  2010      1    2     1  148.0   -15  -4.0  1020.0   135    2.68   \n",
       "26        27  2010      1    2     2  159.0   -11  -5.0  1021.0   135    3.57   \n",
       "27        28  2010      1    2     3  181.0    -7  -5.0  1022.0   135    5.36   \n",
       "28        29  2010      1    2     4  138.0    -7  -5.0  1022.0   135    6.25   \n",
       "...      ...   ...    ...  ...   ...    ...   ...   ...     ...   ...     ...   \n",
       "43819  43820  2014     12   31    19    8.0   -23  -2.0  1034.0   315  231.97   \n",
       "43820  43821  2014     12   31    20   10.0   -22  -3.0  1034.0   315  237.78   \n",
       "43821  43822  2014     12   31    21   10.0   -22  -3.0  1034.0   315  242.70   \n",
       "43822  43823  2014     12   31    22    8.0   -22  -4.0  1034.0   315  246.72   \n",
       "43823  43824  2014     12   31    23   12.0   -21  -3.0  1034.0   315  249.85   \n",
       "\n",
       "       Is  Ir  \n",
       "24      0   0  \n",
       "25      0   0  \n",
       "26      0   0  \n",
       "27      1   0  \n",
       "28      2   0  \n",
       "...    ..  ..  \n",
       "43819   0   0  \n",
       "43820   0   0  \n",
       "43821   0   0  \n",
       "43822   0   0  \n",
       "43823   0   0  \n",
       "\n",
       "[41757 rows x 13 columns]"
      ]
     },
     "execution_count": 6,
     "metadata": {},
     "output_type": "execute_result"
    }
   ],
   "source": [
    "# En primer lugar descartamos los estados que no tengan un valor de PM2.5.\n",
    "data = original_data.dropna(subset=['pm2.5']).copy()\n",
    "\n",
    "# Hare un encoding de la direccion del viento usando el angulo (siendo el norte 0 grados)\n",
    "val, counts = np.unique(data['cbwd'], return_counts=True)\n",
    "data['cbwd'] = data['cbwd'].map({'cv': 0, 'NW': 315, 'NE': 45, 'SE': 135})\n",
    "data"
   ]
  },
  {
   "cell_type": "code",
   "execution_count": 7,
   "metadata": {},
   "outputs": [],
   "source": [
    "# Normalizamos el dataset y guardamos las columnas en una variable \n",
    "scaler = MinMaxScaler(feature_range=(0, 1))\n",
    "scaled_data = scaler.fit_transform(data)\n",
    "columns = data.columns\n"
   ]
  },
  {
   "cell_type": "code",
   "execution_count": 8,
   "metadata": {},
   "outputs": [],
   "source": [
    "# Definimos el Dataset que usaremos para entrenar el modelo. \n",
    "# Este Dataset se encargara de generar las secuencias de datos que se usaran para entrenar el modelo.\n",
    "class TimeSeriesDataset(Dataset):\n",
    "    def __init__(self, \n",
    "                 data: np.array,\n",
    "                 n_steps: int,\n",
    "                 target_column: int):\n",
    "        \n",
    "        self.data = data\n",
    "        self.n_steps = n_steps\n",
    "        self.target_column = target_column\n",
    "        self.feature_columns = [i for i in range(data.shape[1]) if i != target_column]\n",
    "    \n",
    "    def __len__(self):\n",
    "        return len(self.data) - self.n_steps\n",
    "\n",
    "    def __getitem__(self, index):\n",
    "        x = self.data[index:index + self.n_steps, self.feature_columns]\n",
    "        y = self.data[index + self.n_steps, self.target_column]\n",
    "        return torch.FloatTensor(x), torch.FloatTensor([y])"
   ]
  },
  {
   "cell_type": "code",
   "execution_count": 9,
   "metadata": {},
   "outputs": [],
   "source": [
    "n_steps = 48  # Horas previas utiliazadas para la prediccion\n",
    "dataset = TimeSeriesDataset(scaled_data, n_steps=n_steps, target_column=columns.get_loc('pm2.5'))"
   ]
  },
  {
   "cell_type": "code",
   "execution_count": 10,
   "metadata": {},
   "outputs": [],
   "source": [
    "# Definimos el tamaño de los conjuntos de train y test (100 horas).\n",
    "train_size = scaled_data.shape[0]-100\n",
    "train_data = scaled_data[:train_size]\n",
    "test_data = scaled_data[train_size:]\n",
    "\n",
    "# Datasets\n",
    "train_dataset = TimeSeriesDataset(train_data, n_steps=n_steps, target_column=columns.get_loc('pm2.5'))\n",
    "test_dataset = TimeSeriesDataset(test_data, n_steps=n_steps, target_column=columns.get_loc('pm2.5'))\n",
    "\n",
    "train_size = int(0.8*len(train_dataset))\n",
    "val_size = len(train_dataset) - train_size\n",
    "train_dataset, val_dataset = random_split(train_dataset, [train_size, val_size])\n",
    "# DataLoader\n",
    "batch_size = 2048\n",
    "train_dataloader = DataLoader(train_dataset, batch_size=batch_size, shuffle=True)\n",
    "val_dataloader = DataLoader(val_dataset, batch_size=batch_size, shuffle=False)\n",
    "test_dataloader = DataLoader(test_dataset, batch_size=batch_size, shuffle=False)"
   ]
  },
  {
   "cell_type": "markdown",
   "metadata": {},
   "source": [
    "# Definicion del Modelo Base\n",
    "\n",
    "Definimos un modelo base basado en pytorch lightning. Esto me ahorrara tener que definir los diferentes metodos necesarios en el resto de modelos que testeare"
   ]
  },
  {
   "cell_type": "code",
   "execution_count": 11,
   "metadata": {},
   "outputs": [],
   "source": [
    "class BaseModel(pl.LightningModule):\n",
    "    def __init__(\n",
    "        self,\n",
    "        loss_fn: torch.nn.Module = None, # Funcion de perdida que se usara para entrenar el modelo\n",
    "        optimizer: torch.optim.Optimizer = None, # Optimizador que se usara para entrenar el modelo\n",
    "        optimizer_args: dict = None,\n",
    "        ):\n",
    "        super().__init__()\n",
    "            \n",
    "        self.optimizer = optimizer\n",
    "        self.optimizer_args = optimizer_args\n",
    "        self.loss = loss_fn\n",
    "    \n",
    "    def compute_loss(self, prediction, truth):\n",
    "        return self.loss(prediction, truth)\n",
    "    \n",
    "    def training_step(self, batch, batch_idx):\n",
    "        train_loss = self.shared_step(batch, batch_idx)\n",
    "        self.log('train_loss', train_loss, on_step=True, on_epoch=True, prog_bar=True)\n",
    "        return train_loss\n",
    "    \n",
    "    def validation_step(self, batch, batch_idx):\n",
    "        val_loss = self.shared_step(batch, batch_idx)\n",
    "        self.log('val_loss', val_loss, on_epoch=True, prog_bar=True)\n",
    "        return val_loss\n",
    "    \n",
    "    def test_step(self, batch, batch_idx):\n",
    "        test_loss = self.shared_step(batch, batch_idx)\n",
    "        self.log('test_loss', test_loss)\n",
    "        return test_loss\n",
    "    \n",
    "    def shared_step(self, batch, batch_idx):\n",
    "        x, truth = batch\n",
    "        prediction = self(x)\n",
    "        loss = self.compute_loss(prediction, truth)\n",
    "        return loss\n",
    "    \n",
    "    def configure_optimizers(self):\n",
    "        optimizer = self.optimizer(self.parameters(), **self.optimizer_args)\n",
    "        return optimizer"
   ]
  },
  {
   "cell_type": "markdown",
   "metadata": {},
   "source": [
    "## primer modelo: RNNs\n",
    "\n",
    "Una de las arquitecturas mas conocidas para este tipo de Datasets son las Recurrent Neural Networks (RNNs).\n",
    "Probare un ejemplo simple y veremos que t"
   ]
  },
  {
   "cell_type": "code",
   "execution_count": 14,
   "metadata": {},
   "outputs": [],
   "source": [
    "class RNNModel(BaseModel):\n",
    "    def __init__(\n",
    "        self,\n",
    "        input_dim: int, # Dimension de la entrada\n",
    "        hidden_size: int, # numero de features en la salida de la capa RNN\n",
    "        num_layers: int, # Numero de capas en la RNN\n",
    "        output_size: int,\n",
    "        loss_fn: torch.nn.Module,\n",
    "        optimizer: torch.optim.Optimizer,\n",
    "        optimizer_args: dict,\n",
    "        ):\n",
    "        super().__init__(loss_fn=loss_fn, optimizer=optimizer, optimizer_args=optimizer_args)\n",
    "        self.rnn = nn.RNN(input_size=input_dim, hidden_size=hidden_size, num_layers=num_layers, batch_first=True)\n",
    "        self.fc = nn.Linear(hidden_size, output_size)\n",
    "    \n",
    "    def forward(self, x):\n",
    "        x, _ = self.rnn(x)\n",
    "        x = self.fc(x[:, -1, :])\n",
    "        return x"
   ]
  },
  {
   "cell_type": "code",
   "execution_count": 15,
   "metadata": {},
   "outputs": [],
   "source": [
    "input_dim = scaled_data.shape[1]-1\n",
    "hidden_dim = 50\n",
    "n_layers = 2 \n",
    "output_dim = 1\n",
    "\n",
    "loss = nn.MSELoss()\n",
    "optimizer = torch.optim.Adam\n",
    "optimizer_args = {'lr': 1e-3}\n",
    "\n",
    "model = RNNModel(input_dim=input_dim, \n",
    "                 hidden_size=hidden_dim,\n",
    "                 num_layers=n_layers,\n",
    "                 output_size=output_dim,\n",
    "                 optimizer=optimizer, \n",
    "                 loss_fn=loss,\n",
    "                 optimizer_args=optimizer_args)\n"
   ]
  },
  {
   "cell_type": "code",
   "execution_count": 16,
   "metadata": {},
   "outputs": [
    {
     "name": "stderr",
     "output_type": "stream",
     "text": [
      "GPU available: True (cuda), used: True\n",
      "TPU available: False, using: 0 TPU cores\n",
      "IPU available: False, using: 0 IPUs\n",
      "HPU available: False, using: 0 HPUs\n",
      "LOCAL_RANK: 0 - CUDA_VISIBLE_DEVICES: [0]\n",
      "\n",
      "  | Name | Type    | Params\n",
      "---------------------------------\n",
      "0 | loss | MSELoss | 0     \n",
      "1 | rnn  | RNN     | 8.3 K \n",
      "2 | fc   | Linear  | 51    \n",
      "---------------------------------\n",
      "8.4 K     Trainable params\n",
      "0         Non-trainable params\n",
      "8.4 K     Total params\n",
      "0.033     Total estimated model params size (MB)\n"
     ]
    },
    {
     "name": "stdout",
     "output_type": "stream",
     "text": [
      "Sanity Checking DataLoader 0:   0%|          | 0/2 [00:00<?, ?it/s]"
     ]
    },
    {
     "name": "stderr",
     "output_type": "stream",
     "text": [
      "/home/arturo/miniconda3/envs/graphnet/lib/python3.8/site-packages/pytorch_lightning/trainer/connectors/data_connector.py:224: PossibleUserWarning: The dataloader, val_dataloader 0, does not have many workers which may be a bottleneck. Consider increasing the value of the `num_workers` argument` (try 8 which is the number of cpus on this machine) in the `DataLoader` init to improve performance.\n",
      "  rank_zero_warn(\n"
     ]
    },
    {
     "name": "stdout",
     "output_type": "stream",
     "text": [
      "                                                                           "
     ]
    },
    {
     "name": "stderr",
     "output_type": "stream",
     "text": [
      "/home/arturo/miniconda3/envs/graphnet/lib/python3.8/site-packages/pytorch_lightning/trainer/connectors/data_connector.py:224: PossibleUserWarning: The dataloader, train_dataloader, does not have many workers which may be a bottleneck. Consider increasing the value of the `num_workers` argument` (try 8 which is the number of cpus on this machine) in the `DataLoader` init to improve performance.\n",
      "  rank_zero_warn(\n",
      "/home/arturo/miniconda3/envs/graphnet/lib/python3.8/site-packages/pytorch_lightning/trainer/trainer.py:1609: PossibleUserWarning: The number of training batches (17) is smaller than the logging interval Trainer(log_every_n_steps=50). Set a lower value for log_every_n_steps if you want to see logs for the training epoch.\n",
      "  rank_zero_warn(\n"
     ]
    },
    {
     "name": "stdout",
     "output_type": "stream",
     "text": [
      "Epoch 0: 100%|██████████| 22/22 [00:01<00:00, 12.82it/s, loss=0.0201, v_num=1, train_loss_step=0.0109, val_loss=0.00901]"
     ]
    },
    {
     "name": "stderr",
     "output_type": "stream",
     "text": [
      "Metric val_loss improved. New best score: 0.009\n"
     ]
    },
    {
     "name": "stdout",
     "output_type": "stream",
     "text": [
      "Epoch 1: 100%|██████████| 22/22 [00:01<00:00, 13.02it/s, loss=0.00956, v_num=1, train_loss_step=0.00712, val_loss=0.00838, train_loss_epoch=0.0206]"
     ]
    },
    {
     "name": "stderr",
     "output_type": "stream",
     "text": [
      "Metric val_loss improved by 0.001 >= min_delta = 0.0. New best score: 0.008\n"
     ]
    },
    {
     "name": "stdout",
     "output_type": "stream",
     "text": [
      "Epoch 2: 100%|██████████| 22/22 [00:01<00:00, 11.91it/s, loss=0.00788, v_num=1, train_loss_step=0.0073, val_loss=0.00747, train_loss_epoch=0.00917] "
     ]
    },
    {
     "name": "stderr",
     "output_type": "stream",
     "text": [
      "Metric val_loss improved by 0.001 >= min_delta = 0.0. New best score: 0.007\n"
     ]
    },
    {
     "name": "stdout",
     "output_type": "stream",
     "text": [
      "Epoch 3: 100%|██████████| 22/22 [00:01<00:00, 13.40it/s, loss=0.00732, v_num=1, train_loss_step=0.00694, val_loss=0.00697, train_loss_epoch=0.00788]"
     ]
    },
    {
     "name": "stderr",
     "output_type": "stream",
     "text": [
      "Metric val_loss improved by 0.000 >= min_delta = 0.0. New best score: 0.007\n"
     ]
    },
    {
     "name": "stdout",
     "output_type": "stream",
     "text": [
      "Epoch 4: 100%|██████████| 22/22 [00:01<00:00, 11.77it/s, loss=0.00701, v_num=1, train_loss_step=0.00681, val_loss=0.00665, train_loss_epoch=0.00731]"
     ]
    },
    {
     "name": "stderr",
     "output_type": "stream",
     "text": [
      "Metric val_loss improved by 0.000 >= min_delta = 0.0. New best score: 0.007\n"
     ]
    },
    {
     "name": "stdout",
     "output_type": "stream",
     "text": [
      "Epoch 5: 100%|██████████| 22/22 [00:01<00:00, 13.19it/s, loss=0.00651, v_num=1, train_loss_step=0.0056, val_loss=0.00624, train_loss_epoch=0.00691] "
     ]
    },
    {
     "name": "stderr",
     "output_type": "stream",
     "text": [
      "Metric val_loss improved by 0.000 >= min_delta = 0.0. New best score: 0.006\n"
     ]
    },
    {
     "name": "stdout",
     "output_type": "stream",
     "text": [
      "Epoch 6: 100%|██████████| 22/22 [00:01<00:00, 11.44it/s, loss=0.00607, v_num=1, train_loss_step=0.00627, val_loss=0.00584, train_loss_epoch=0.00653]"
     ]
    },
    {
     "name": "stderr",
     "output_type": "stream",
     "text": [
      "Metric val_loss improved by 0.000 >= min_delta = 0.0. New best score: 0.006\n"
     ]
    },
    {
     "name": "stdout",
     "output_type": "stream",
     "text": [
      "Epoch 9: 100%|██████████| 22/22 [00:01<00:00, 13.50it/s, loss=0.00567, v_num=1, train_loss_step=0.00481, val_loss=0.00555, train_loss_epoch=0.00567]"
     ]
    },
    {
     "name": "stderr",
     "output_type": "stream",
     "text": [
      "Metric val_loss improved by 0.000 >= min_delta = 0.0. New best score: 0.006\n"
     ]
    },
    {
     "name": "stdout",
     "output_type": "stream",
     "text": [
      "Epoch 10: 100%|██████████| 22/22 [00:01<00:00, 11.94it/s, loss=0.00534, v_num=1, train_loss_step=0.00546, val_loss=0.00537, train_loss_epoch=0.0056]"
     ]
    },
    {
     "name": "stderr",
     "output_type": "stream",
     "text": [
      "Metric val_loss improved by 0.000 >= min_delta = 0.0. New best score: 0.005\n"
     ]
    },
    {
     "name": "stdout",
     "output_type": "stream",
     "text": [
      "Epoch 11: 100%|██████████| 22/22 [00:01<00:00, 12.89it/s, loss=0.00526, v_num=1, train_loss_step=0.00636, val_loss=0.00514, train_loss_epoch=0.00534]"
     ]
    },
    {
     "name": "stderr",
     "output_type": "stream",
     "text": [
      "Metric val_loss improved by 0.000 >= min_delta = 0.0. New best score: 0.005\n"
     ]
    },
    {
     "name": "stdout",
     "output_type": "stream",
     "text": [
      "Epoch 13: 100%|██████████| 22/22 [00:01<00:00, 13.11it/s, loss=0.00515, v_num=1, train_loss_step=0.00517, val_loss=0.00503, train_loss_epoch=0.00517]"
     ]
    },
    {
     "name": "stderr",
     "output_type": "stream",
     "text": [
      "Metric val_loss improved by 0.000 >= min_delta = 0.0. New best score: 0.005\n"
     ]
    },
    {
     "name": "stdout",
     "output_type": "stream",
     "text": [
      "Epoch 15: 100%|██████████| 22/22 [00:01<00:00, 12.95it/s, loss=0.00504, v_num=1, train_loss_step=0.00396, val_loss=0.00498, train_loss_epoch=0.00503]"
     ]
    },
    {
     "name": "stderr",
     "output_type": "stream",
     "text": [
      "Metric val_loss improved by 0.000 >= min_delta = 0.0. New best score: 0.005\n"
     ]
    },
    {
     "name": "stdout",
     "output_type": "stream",
     "text": [
      "Epoch 16: 100%|██████████| 22/22 [00:01<00:00, 11.62it/s, loss=0.00492, v_num=1, train_loss_step=0.00455, val_loss=0.00492, train_loss_epoch=0.00511]"
     ]
    },
    {
     "name": "stderr",
     "output_type": "stream",
     "text": [
      "Metric val_loss improved by 0.000 >= min_delta = 0.0. New best score: 0.005\n"
     ]
    },
    {
     "name": "stdout",
     "output_type": "stream",
     "text": [
      "Epoch 18: 100%|██████████| 22/22 [00:01<00:00, 11.56it/s, loss=0.00492, v_num=1, train_loss_step=0.00504, val_loss=0.00485, train_loss_epoch=0.00493]"
     ]
    },
    {
     "name": "stderr",
     "output_type": "stream",
     "text": [
      "Metric val_loss improved by 0.000 >= min_delta = 0.0. New best score: 0.005\n"
     ]
    },
    {
     "name": "stdout",
     "output_type": "stream",
     "text": [
      "Epoch 21: 100%|██████████| 22/22 [00:01<00:00, 12.95it/s, loss=0.0048, v_num=1, train_loss_step=0.00459, val_loss=0.00482, train_loss_epoch=0.00501] "
     ]
    },
    {
     "name": "stderr",
     "output_type": "stream",
     "text": [
      "Metric val_loss improved by 0.000 >= min_delta = 0.0. New best score: 0.005\n"
     ]
    },
    {
     "name": "stdout",
     "output_type": "stream",
     "text": [
      "Epoch 22: 100%|██████████| 22/22 [00:01<00:00, 11.44it/s, loss=0.00473, v_num=1, train_loss_step=0.00433, val_loss=0.0047, train_loss_epoch=0.00485] "
     ]
    },
    {
     "name": "stderr",
     "output_type": "stream",
     "text": [
      "Metric val_loss improved by 0.000 >= min_delta = 0.0. New best score: 0.005\n"
     ]
    },
    {
     "name": "stdout",
     "output_type": "stream",
     "text": [
      "Epoch 23: 100%|██████████| 22/22 [00:01<00:00, 13.06it/s, loss=0.0047, v_num=1, train_loss_step=0.00443, val_loss=0.00468, train_loss_epoch=0.00476]"
     ]
    },
    {
     "name": "stderr",
     "output_type": "stream",
     "text": [
      "Metric val_loss improved by 0.000 >= min_delta = 0.0. New best score: 0.005\n"
     ]
    },
    {
     "name": "stdout",
     "output_type": "stream",
     "text": [
      "Epoch 24: 100%|██████████| 22/22 [00:01<00:00, 11.76it/s, loss=0.00469, v_num=1, train_loss_step=0.00439, val_loss=0.00464, train_loss_epoch=0.00477]"
     ]
    },
    {
     "name": "stderr",
     "output_type": "stream",
     "text": [
      "Metric val_loss improved by 0.000 >= min_delta = 0.0. New best score: 0.005\n"
     ]
    },
    {
     "name": "stdout",
     "output_type": "stream",
     "text": [
      "Epoch 28: 100%|██████████| 22/22 [00:01<00:00, 11.29it/s, loss=0.00468, v_num=1, train_loss_step=0.0043, val_loss=0.00459, train_loss_epoch=0.00487] "
     ]
    },
    {
     "name": "stderr",
     "output_type": "stream",
     "text": [
      "Metric val_loss improved by 0.000 >= min_delta = 0.0. New best score: 0.005\n"
     ]
    },
    {
     "name": "stdout",
     "output_type": "stream",
     "text": [
      "Epoch 32: 100%|██████████| 22/22 [00:01<00:00, 11.78it/s, loss=0.00446, v_num=1, train_loss_step=0.00415, val_loss=0.00456, train_loss_epoch=0.00457]"
     ]
    },
    {
     "name": "stderr",
     "output_type": "stream",
     "text": [
      "Metric val_loss improved by 0.000 >= min_delta = 0.0. New best score: 0.005\n"
     ]
    },
    {
     "name": "stdout",
     "output_type": "stream",
     "text": [
      "Epoch 33: 100%|██████████| 22/22 [00:01<00:00, 13.02it/s, loss=0.00441, v_num=1, train_loss_step=0.00422, val_loss=0.00425, train_loss_epoch=0.00449]"
     ]
    },
    {
     "name": "stderr",
     "output_type": "stream",
     "text": [
      "Metric val_loss improved by 0.000 >= min_delta = 0.0. New best score: 0.004\n"
     ]
    },
    {
     "name": "stdout",
     "output_type": "stream",
     "text": [
      "Epoch 36: 100%|██████████| 22/22 [00:01<00:00, 11.76it/s, loss=0.00433, v_num=1, train_loss_step=0.0047, val_loss=0.00418, train_loss_epoch=0.00427] "
     ]
    },
    {
     "name": "stderr",
     "output_type": "stream",
     "text": [
      "Metric val_loss improved by 0.000 >= min_delta = 0.0. New best score: 0.004\n"
     ]
    },
    {
     "name": "stdout",
     "output_type": "stream",
     "text": [
      "Epoch 38: 100%|██████████| 22/22 [00:01<00:00, 11.46it/s, loss=0.00426, v_num=1, train_loss_step=0.00464, val_loss=0.00412, train_loss_epoch=0.00429]"
     ]
    },
    {
     "name": "stderr",
     "output_type": "stream",
     "text": [
      "Metric val_loss improved by 0.000 >= min_delta = 0.0. New best score: 0.004\n"
     ]
    },
    {
     "name": "stdout",
     "output_type": "stream",
     "text": [
      "Epoch 39: 100%|██████████| 22/22 [00:01<00:00, 12.63it/s, loss=0.0042, v_num=1, train_loss_step=0.00528, val_loss=0.00406, train_loss_epoch=0.00424] "
     ]
    },
    {
     "name": "stderr",
     "output_type": "stream",
     "text": [
      "Metric val_loss improved by 0.000 >= min_delta = 0.0. New best score: 0.004\n"
     ]
    },
    {
     "name": "stdout",
     "output_type": "stream",
     "text": [
      "Epoch 43: 100%|██████████| 22/22 [00:01<00:00, 12.94it/s, loss=0.00405, v_num=1, train_loss_step=0.00485, val_loss=0.00393, train_loss_epoch=0.00414]"
     ]
    },
    {
     "name": "stderr",
     "output_type": "stream",
     "text": [
      "Metric val_loss improved by 0.000 >= min_delta = 0.0. New best score: 0.004\n"
     ]
    },
    {
     "name": "stdout",
     "output_type": "stream",
     "text": [
      "Epoch 46: 100%|██████████| 22/22 [00:01<00:00, 11.63it/s, loss=0.00402, v_num=1, train_loss_step=0.00399, val_loss=0.00392, train_loss_epoch=0.00396]"
     ]
    },
    {
     "name": "stderr",
     "output_type": "stream",
     "text": [
      "Metric val_loss improved by 0.000 >= min_delta = 0.0. New best score: 0.004\n"
     ]
    },
    {
     "name": "stdout",
     "output_type": "stream",
     "text": [
      "Epoch 47: 100%|██████████| 22/22 [00:01<00:00, 12.67it/s, loss=0.00382, v_num=1, train_loss_step=0.00284, val_loss=0.00388, train_loss_epoch=0.00402]"
     ]
    },
    {
     "name": "stderr",
     "output_type": "stream",
     "text": [
      "Metric val_loss improved by 0.000 >= min_delta = 0.0. New best score: 0.004\n"
     ]
    },
    {
     "name": "stdout",
     "output_type": "stream",
     "text": [
      "Epoch 48: 100%|██████████| 22/22 [00:01<00:00, 11.64it/s, loss=0.00377, v_num=1, train_loss_step=0.0035, val_loss=0.00378, train_loss_epoch=0.00385] "
     ]
    },
    {
     "name": "stderr",
     "output_type": "stream",
     "text": [
      "Metric val_loss improved by 0.000 >= min_delta = 0.0. New best score: 0.004\n"
     ]
    },
    {
     "name": "stdout",
     "output_type": "stream",
     "text": [
      "Epoch 49: 100%|██████████| 22/22 [00:01<00:00, 12.42it/s, loss=0.0038, v_num=1, train_loss_step=0.00393, val_loss=0.00377, train_loss_epoch=0.00385] "
     ]
    },
    {
     "name": "stderr",
     "output_type": "stream",
     "text": [
      "Metric val_loss improved by 0.000 >= min_delta = 0.0. New best score: 0.004\n"
     ]
    },
    {
     "name": "stdout",
     "output_type": "stream",
     "text": [
      "Epoch 54: 100%|██████████| 22/22 [00:01<00:00, 11.49it/s, loss=0.00381, v_num=1, train_loss_step=0.00369, val_loss=0.0037, train_loss_epoch=0.00391] "
     ]
    },
    {
     "name": "stderr",
     "output_type": "stream",
     "text": [
      "Metric val_loss improved by 0.000 >= min_delta = 0.0. New best score: 0.004\n"
     ]
    },
    {
     "name": "stdout",
     "output_type": "stream",
     "text": [
      "Epoch 57: 100%|██████████| 22/22 [00:01<00:00, 12.80it/s, loss=0.00377, v_num=1, train_loss_step=0.00304, val_loss=0.00369, train_loss_epoch=0.00383]"
     ]
    },
    {
     "name": "stderr",
     "output_type": "stream",
     "text": [
      "Metric val_loss improved by 0.000 >= min_delta = 0.0. New best score: 0.004\n"
     ]
    },
    {
     "name": "stdout",
     "output_type": "stream",
     "text": [
      "Epoch 62: 100%|██████████| 22/22 [00:01<00:00, 13.05it/s, loss=0.00374, v_num=1, train_loss_step=0.00328, val_loss=0.00363, train_loss_epoch=0.00369]"
     ]
    },
    {
     "name": "stderr",
     "output_type": "stream",
     "text": [
      "Metric val_loss improved by 0.000 >= min_delta = 0.0. New best score: 0.004\n"
     ]
    },
    {
     "name": "stdout",
     "output_type": "stream",
     "text": [
      "Epoch 67: 100%|██████████| 22/22 [00:01<00:00, 11.76it/s, loss=0.00362, v_num=1, train_loss_step=0.00379, val_loss=0.00362, train_loss_epoch=0.00366]"
     ]
    },
    {
     "name": "stderr",
     "output_type": "stream",
     "text": [
      "Metric val_loss improved by 0.000 >= min_delta = 0.0. New best score: 0.004\n"
     ]
    },
    {
     "name": "stdout",
     "output_type": "stream",
     "text": [
      "Epoch 78: 100%|██████████| 22/22 [00:01<00:00, 13.36it/s, loss=0.00368, v_num=1, train_loss_step=0.00272, val_loss=0.00358, train_loss_epoch=0.00365]"
     ]
    },
    {
     "name": "stderr",
     "output_type": "stream",
     "text": [
      "Metric val_loss improved by 0.000 >= min_delta = 0.0. New best score: 0.004\n"
     ]
    },
    {
     "name": "stdout",
     "output_type": "stream",
     "text": [
      "Epoch 81: 100%|██████████| 22/22 [00:01<00:00, 11.80it/s, loss=0.00377, v_num=1, train_loss_step=0.00321, val_loss=0.00356, train_loss_epoch=0.00366]"
     ]
    },
    {
     "name": "stderr",
     "output_type": "stream",
     "text": [
      "Metric val_loss improved by 0.000 >= min_delta = 0.0. New best score: 0.004\n"
     ]
    },
    {
     "name": "stdout",
     "output_type": "stream",
     "text": [
      "Epoch 82: 100%|██████████| 22/22 [00:01<00:00, 12.46it/s, loss=0.00353, v_num=1, train_loss_step=0.00329, val_loss=0.00351, train_loss_epoch=0.00363]"
     ]
    },
    {
     "name": "stderr",
     "output_type": "stream",
     "text": [
      "Metric val_loss improved by 0.000 >= min_delta = 0.0. New best score: 0.004\n"
     ]
    },
    {
     "name": "stdout",
     "output_type": "stream",
     "text": [
      "Epoch 84: 100%|██████████| 22/22 [00:01<00:00, 12.86it/s, loss=0.00357, v_num=1, train_loss_step=0.00331, val_loss=0.00348, train_loss_epoch=0.00355]"
     ]
    },
    {
     "name": "stderr",
     "output_type": "stream",
     "text": [
      "Metric val_loss improved by 0.000 >= min_delta = 0.0. New best score: 0.003\n"
     ]
    },
    {
     "name": "stdout",
     "output_type": "stream",
     "text": [
      "Epoch 86: 100%|██████████| 22/22 [00:01<00:00, 12.80it/s, loss=0.00356, v_num=1, train_loss_step=0.00368, val_loss=0.00348, train_loss_epoch=0.00355]"
     ]
    },
    {
     "name": "stderr",
     "output_type": "stream",
     "text": [
      "Metric val_loss improved by 0.000 >= min_delta = 0.0. New best score: 0.003\n"
     ]
    },
    {
     "name": "stdout",
     "output_type": "stream",
     "text": [
      "Epoch 88: 100%|██████████| 22/22 [00:01<00:00, 11.65it/s, loss=0.0036, v_num=1, train_loss_step=0.00405, val_loss=0.00348, train_loss_epoch=0.00354] "
     ]
    },
    {
     "name": "stderr",
     "output_type": "stream",
     "text": [
      "Metric val_loss improved by 0.000 >= min_delta = 0.0. New best score: 0.003\n"
     ]
    },
    {
     "name": "stdout",
     "output_type": "stream",
     "text": [
      "Epoch 92: 100%|██████████| 22/22 [00:01<00:00, 11.47it/s, loss=0.00366, v_num=1, train_loss_step=0.00309, val_loss=0.00347, train_loss_epoch=0.00365]"
     ]
    },
    {
     "name": "stderr",
     "output_type": "stream",
     "text": [
      "Metric val_loss improved by 0.000 >= min_delta = 0.0. New best score: 0.003\n"
     ]
    },
    {
     "name": "stdout",
     "output_type": "stream",
     "text": [
      "Epoch 96: 100%|██████████| 22/22 [00:01<00:00, 11.68it/s, loss=0.00363, v_num=1, train_loss_step=0.00379, val_loss=0.00346, train_loss_epoch=0.00357]"
     ]
    },
    {
     "name": "stderr",
     "output_type": "stream",
     "text": [
      "Metric val_loss improved by 0.000 >= min_delta = 0.0. New best score: 0.003\n"
     ]
    },
    {
     "name": "stdout",
     "output_type": "stream",
     "text": [
      "Epoch 102: 100%|██████████| 22/22 [00:01<00:00, 11.24it/s, loss=0.00354, v_num=1, train_loss_step=0.00344, val_loss=0.00344, train_loss_epoch=0.00355]"
     ]
    },
    {
     "name": "stderr",
     "output_type": "stream",
     "text": [
      "Metric val_loss improved by 0.000 >= min_delta = 0.0. New best score: 0.003\n"
     ]
    },
    {
     "name": "stdout",
     "output_type": "stream",
     "text": [
      "Epoch 106: 100%|██████████| 22/22 [00:01<00:00, 11.49it/s, loss=0.00352, v_num=1, train_loss_step=0.00339, val_loss=0.00338, train_loss_epoch=0.00354]"
     ]
    },
    {
     "name": "stderr",
     "output_type": "stream",
     "text": [
      "Metric val_loss improved by 0.000 >= min_delta = 0.0. New best score: 0.003\n"
     ]
    },
    {
     "name": "stdout",
     "output_type": "stream",
     "text": [
      "Epoch 115: 100%|██████████| 22/22 [00:01<00:00, 11.59it/s, loss=0.00339, v_num=1, train_loss_step=0.0025, val_loss=0.00337, train_loss_epoch=0.00342] "
     ]
    },
    {
     "name": "stderr",
     "output_type": "stream",
     "text": [
      "Metric val_loss improved by 0.000 >= min_delta = 0.0. New best score: 0.003\n"
     ]
    },
    {
     "name": "stdout",
     "output_type": "stream",
     "text": [
      "Epoch 121: 100%|██████████| 22/22 [00:01<00:00, 11.86it/s, loss=0.00348, v_num=1, train_loss_step=0.00506, val_loss=0.00335, train_loss_epoch=0.0035] "
     ]
    },
    {
     "name": "stderr",
     "output_type": "stream",
     "text": [
      "Metric val_loss improved by 0.000 >= min_delta = 0.0. New best score: 0.003\n"
     ]
    },
    {
     "name": "stdout",
     "output_type": "stream",
     "text": [
      "Epoch 133: 100%|██████████| 22/22 [00:01<00:00, 11.92it/s, loss=0.0035, v_num=1, train_loss_step=0.00401, val_loss=0.00333, train_loss_epoch=0.00367] "
     ]
    },
    {
     "name": "stderr",
     "output_type": "stream",
     "text": [
      "Metric val_loss improved by 0.000 >= min_delta = 0.0. New best score: 0.003\n"
     ]
    },
    {
     "name": "stdout",
     "output_type": "stream",
     "text": [
      "Epoch 136: 100%|██████████| 22/22 [00:01<00:00, 12.91it/s, loss=0.00328, v_num=1, train_loss_step=0.00302, val_loss=0.00331, train_loss_epoch=0.00338]"
     ]
    },
    {
     "name": "stderr",
     "output_type": "stream",
     "text": [
      "Metric val_loss improved by 0.000 >= min_delta = 0.0. New best score: 0.003\n"
     ]
    },
    {
     "name": "stdout",
     "output_type": "stream",
     "text": [
      "Epoch 143: 100%|██████████| 22/22 [00:01<00:00, 11.67it/s, loss=0.00337, v_num=1, train_loss_step=0.00305, val_loss=0.00322, train_loss_epoch=0.00338]"
     ]
    },
    {
     "name": "stderr",
     "output_type": "stream",
     "text": [
      "Metric val_loss improved by 0.000 >= min_delta = 0.0. New best score: 0.003\n"
     ]
    },
    {
     "name": "stdout",
     "output_type": "stream",
     "text": [
      "Epoch 160: 100%|██████████| 22/22 [00:01<00:00, 11.65it/s, loss=0.00321, v_num=1, train_loss_step=0.00266, val_loss=0.00316, train_loss_epoch=0.00325]"
     ]
    },
    {
     "name": "stderr",
     "output_type": "stream",
     "text": [
      "Metric val_loss improved by 0.000 >= min_delta = 0.0. New best score: 0.003\n"
     ]
    },
    {
     "name": "stdout",
     "output_type": "stream",
     "text": [
      "Epoch 169: 100%|██████████| 22/22 [00:01<00:00, 13.38it/s, loss=0.00316, v_num=1, train_loss_step=0.00283, val_loss=0.00312, train_loss_epoch=0.00326]"
     ]
    },
    {
     "name": "stderr",
     "output_type": "stream",
     "text": [
      "Metric val_loss improved by 0.000 >= min_delta = 0.0. New best score: 0.003\n"
     ]
    },
    {
     "name": "stdout",
     "output_type": "stream",
     "text": [
      "Epoch 171: 100%|██████████| 22/22 [00:01<00:00, 12.95it/s, loss=0.0032, v_num=1, train_loss_step=0.00364, val_loss=0.0031, train_loss_epoch=0.00319]  "
     ]
    },
    {
     "name": "stderr",
     "output_type": "stream",
     "text": [
      "Metric val_loss improved by 0.000 >= min_delta = 0.0. New best score: 0.003\n"
     ]
    },
    {
     "name": "stdout",
     "output_type": "stream",
     "text": [
      "Epoch 177: 100%|██████████| 22/22 [00:01<00:00, 13.10it/s, loss=0.0032, v_num=1, train_loss_step=0.0041, val_loss=0.00306, train_loss_epoch=0.00318]  "
     ]
    },
    {
     "name": "stderr",
     "output_type": "stream",
     "text": [
      "Metric val_loss improved by 0.000 >= min_delta = 0.0. New best score: 0.003\n"
     ]
    },
    {
     "name": "stdout",
     "output_type": "stream",
     "text": [
      "Epoch 198: 100%|██████████| 22/22 [00:01<00:00, 13.26it/s, loss=0.00305, v_num=1, train_loss_step=0.00293, val_loss=0.00299, train_loss_epoch=0.00311]"
     ]
    },
    {
     "name": "stderr",
     "output_type": "stream",
     "text": [
      "Metric val_loss improved by 0.000 >= min_delta = 0.0. New best score: 0.003\n"
     ]
    },
    {
     "name": "stdout",
     "output_type": "stream",
     "text": [
      "Epoch 199: 100%|██████████| 22/22 [00:01<00:00, 11.41it/s, loss=0.00307, v_num=1, train_loss_step=0.00315, val_loss=0.00298, train_loss_epoch=0.0031] "
     ]
    },
    {
     "name": "stderr",
     "output_type": "stream",
     "text": [
      "Metric val_loss improved by 0.000 >= min_delta = 0.0. New best score: 0.003\n"
     ]
    },
    {
     "name": "stdout",
     "output_type": "stream",
     "text": [
      "Epoch 204: 100%|██████████| 22/22 [00:01<00:00, 12.78it/s, loss=0.00311, v_num=1, train_loss_step=0.00281, val_loss=0.00297, train_loss_epoch=0.00324]"
     ]
    },
    {
     "name": "stderr",
     "output_type": "stream",
     "text": [
      "Metric val_loss improved by 0.000 >= min_delta = 0.0. New best score: 0.003\n"
     ]
    },
    {
     "name": "stdout",
     "output_type": "stream",
     "text": [
      "Epoch 216: 100%|██████████| 22/22 [00:01<00:00, 13.21it/s, loss=0.00299, v_num=1, train_loss_step=0.0029, val_loss=0.00294, train_loss_epoch=0.00304] "
     ]
    },
    {
     "name": "stderr",
     "output_type": "stream",
     "text": [
      "Metric val_loss improved by 0.000 >= min_delta = 0.0. New best score: 0.003\n"
     ]
    },
    {
     "name": "stdout",
     "output_type": "stream",
     "text": [
      "Epoch 220: 100%|██████████| 22/22 [00:01<00:00, 12.95it/s, loss=0.00297, v_num=1, train_loss_step=0.00337, val_loss=0.00292, train_loss_epoch=0.00304]"
     ]
    },
    {
     "name": "stderr",
     "output_type": "stream",
     "text": [
      "Metric val_loss improved by 0.000 >= min_delta = 0.0. New best score: 0.003\n"
     ]
    },
    {
     "name": "stdout",
     "output_type": "stream",
     "text": [
      "Epoch 221: 100%|██████████| 22/22 [00:01<00:00, 11.23it/s, loss=0.00295, v_num=1, train_loss_step=0.00291, val_loss=0.00291, train_loss_epoch=0.00296]"
     ]
    },
    {
     "name": "stderr",
     "output_type": "stream",
     "text": [
      "Metric val_loss improved by 0.000 >= min_delta = 0.0. New best score: 0.003\n"
     ]
    },
    {
     "name": "stdout",
     "output_type": "stream",
     "text": [
      "Epoch 226: 100%|██████████| 22/22 [00:01<00:00, 11.43it/s, loss=0.00298, v_num=1, train_loss_step=0.0029, val_loss=0.00284, train_loss_epoch=0.00295] "
     ]
    },
    {
     "name": "stderr",
     "output_type": "stream",
     "text": [
      "Metric val_loss improved by 0.000 >= min_delta = 0.0. New best score: 0.003\n"
     ]
    },
    {
     "name": "stdout",
     "output_type": "stream",
     "text": [
      "Epoch 232: 100%|██████████| 22/22 [00:01<00:00, 11.68it/s, loss=0.00286, v_num=1, train_loss_step=0.00209, val_loss=0.00282, train_loss_epoch=0.00293]"
     ]
    },
    {
     "name": "stderr",
     "output_type": "stream",
     "text": [
      "Metric val_loss improved by 0.000 >= min_delta = 0.0. New best score: 0.003\n"
     ]
    },
    {
     "name": "stdout",
     "output_type": "stream",
     "text": [
      "Epoch 235: 100%|██████████| 22/22 [00:01<00:00, 13.05it/s, loss=0.00291, v_num=1, train_loss_step=0.00304, val_loss=0.00277, train_loss_epoch=0.00285]"
     ]
    },
    {
     "name": "stderr",
     "output_type": "stream",
     "text": [
      "Metric val_loss improved by 0.000 >= min_delta = 0.0. New best score: 0.003\n"
     ]
    },
    {
     "name": "stdout",
     "output_type": "stream",
     "text": [
      "Epoch 238: 100%|██████████| 22/22 [00:01<00:00, 11.46it/s, loss=0.00286, v_num=1, train_loss_step=0.00248, val_loss=0.00277, train_loss_epoch=0.00285]"
     ]
    },
    {
     "name": "stderr",
     "output_type": "stream",
     "text": [
      "Metric val_loss improved by 0.000 >= min_delta = 0.0. New best score: 0.003\n"
     ]
    },
    {
     "name": "stdout",
     "output_type": "stream",
     "text": [
      "Epoch 241: 100%|██████████| 22/22 [00:01<00:00, 13.04it/s, loss=0.0029, v_num=1, train_loss_step=0.00328, val_loss=0.00272, train_loss_epoch=0.00284] "
     ]
    },
    {
     "name": "stderr",
     "output_type": "stream",
     "text": [
      "Metric val_loss improved by 0.000 >= min_delta = 0.0. New best score: 0.003\n"
     ]
    },
    {
     "name": "stdout",
     "output_type": "stream",
     "text": [
      "Epoch 249: 100%|██████████| 22/22 [00:01<00:00, 12.70it/s, loss=0.00284, v_num=1, train_loss_step=0.00389, val_loss=0.0027, train_loss_epoch=0.00288] "
     ]
    },
    {
     "name": "stderr",
     "output_type": "stream",
     "text": [
      "Metric val_loss improved by 0.000 >= min_delta = 0.0. New best score: 0.003\n"
     ]
    },
    {
     "name": "stdout",
     "output_type": "stream",
     "text": [
      "Epoch 257: 100%|██████████| 22/22 [00:01<00:00, 13.03it/s, loss=0.00274, v_num=1, train_loss_step=0.0023, val_loss=0.00269, train_loss_epoch=0.00289] "
     ]
    },
    {
     "name": "stderr",
     "output_type": "stream",
     "text": [
      "Metric val_loss improved by 0.000 >= min_delta = 0.0. New best score: 0.003\n"
     ]
    },
    {
     "name": "stdout",
     "output_type": "stream",
     "text": [
      "Epoch 262: 100%|██████████| 22/22 [00:01<00:00, 11.76it/s, loss=0.00275, v_num=1, train_loss_step=0.00232, val_loss=0.00268, train_loss_epoch=0.00275]"
     ]
    },
    {
     "name": "stderr",
     "output_type": "stream",
     "text": [
      "Metric val_loss improved by 0.000 >= min_delta = 0.0. New best score: 0.003\n"
     ]
    },
    {
     "name": "stdout",
     "output_type": "stream",
     "text": [
      "Epoch 264: 100%|██████████| 22/22 [00:01<00:00, 11.47it/s, loss=0.00275, v_num=1, train_loss_step=0.00249, val_loss=0.00268, train_loss_epoch=0.00276]"
     ]
    },
    {
     "name": "stderr",
     "output_type": "stream",
     "text": [
      "Metric val_loss improved by 0.000 >= min_delta = 0.0. New best score: 0.003\n"
     ]
    },
    {
     "name": "stdout",
     "output_type": "stream",
     "text": [
      "Epoch 266: 100%|██████████| 22/22 [00:01<00:00, 11.71it/s, loss=0.00266, v_num=1, train_loss_step=0.00254, val_loss=0.00268, train_loss_epoch=0.00269]"
     ]
    },
    {
     "name": "stderr",
     "output_type": "stream",
     "text": [
      "Metric val_loss improved by 0.000 >= min_delta = 0.0. New best score: 0.003\n"
     ]
    },
    {
     "name": "stdout",
     "output_type": "stream",
     "text": [
      "Epoch 273: 100%|██████████| 22/22 [00:01<00:00, 11.54it/s, loss=0.00261, v_num=1, train_loss_step=0.00223, val_loss=0.00256, train_loss_epoch=0.00261]"
     ]
    },
    {
     "name": "stderr",
     "output_type": "stream",
     "text": [
      "Metric val_loss improved by 0.000 >= min_delta = 0.0. New best score: 0.003\n"
     ]
    },
    {
     "name": "stdout",
     "output_type": "stream",
     "text": [
      "Epoch 289: 100%|██████████| 22/22 [00:01<00:00, 13.16it/s, loss=0.00266, v_num=1, train_loss_step=0.00351, val_loss=0.00253, train_loss_epoch=0.00263]"
     ]
    },
    {
     "name": "stderr",
     "output_type": "stream",
     "text": [
      "Metric val_loss improved by 0.000 >= min_delta = 0.0. New best score: 0.003\n"
     ]
    },
    {
     "name": "stdout",
     "output_type": "stream",
     "text": [
      "Epoch 301: 100%|██████████| 22/22 [00:01<00:00, 11.83it/s, loss=0.00248, v_num=1, train_loss_step=0.00194, val_loss=0.00252, train_loss_epoch=0.00253]"
     ]
    },
    {
     "name": "stderr",
     "output_type": "stream",
     "text": [
      "Metric val_loss improved by 0.000 >= min_delta = 0.0. New best score: 0.003\n"
     ]
    },
    {
     "name": "stdout",
     "output_type": "stream",
     "text": [
      "Epoch 305: 100%|██████████| 22/22 [00:01<00:00, 13.22it/s, loss=0.00251, v_num=1, train_loss_step=0.0025, val_loss=0.0025, train_loss_epoch=0.00259]  "
     ]
    },
    {
     "name": "stderr",
     "output_type": "stream",
     "text": [
      "Metric val_loss improved by 0.000 >= min_delta = 0.0. New best score: 0.003\n"
     ]
    },
    {
     "name": "stdout",
     "output_type": "stream",
     "text": [
      "Epoch 306: 100%|██████████| 22/22 [00:01<00:00, 11.51it/s, loss=0.00247, v_num=1, train_loss_step=0.0024, val_loss=0.0025, train_loss_epoch=0.00253] "
     ]
    },
    {
     "name": "stderr",
     "output_type": "stream",
     "text": [
      "Metric val_loss improved by 0.000 >= min_delta = 0.0. New best score: 0.003\n"
     ]
    },
    {
     "name": "stdout",
     "output_type": "stream",
     "text": [
      "Epoch 307: 100%|██████████| 22/22 [00:01<00:00, 13.06it/s, loss=0.00252, v_num=1, train_loss_step=0.00224, val_loss=0.00247, train_loss_epoch=0.00246]"
     ]
    },
    {
     "name": "stderr",
     "output_type": "stream",
     "text": [
      "Metric val_loss improved by 0.000 >= min_delta = 0.0. New best score: 0.002\n"
     ]
    },
    {
     "name": "stdout",
     "output_type": "stream",
     "text": [
      "Epoch 318: 100%|██████████| 22/22 [00:01<00:00, 11.58it/s, loss=0.00246, v_num=1, train_loss_step=0.00241, val_loss=0.00243, train_loss_epoch=0.00256]"
     ]
    },
    {
     "name": "stderr",
     "output_type": "stream",
     "text": [
      "Metric val_loss improved by 0.000 >= min_delta = 0.0. New best score: 0.002\n"
     ]
    },
    {
     "name": "stdout",
     "output_type": "stream",
     "text": [
      "Epoch 319: 100%|██████████| 22/22 [00:01<00:00, 12.84it/s, loss=0.00241, v_num=1, train_loss_step=0.00222, val_loss=0.00243, train_loss_epoch=0.00247]"
     ]
    },
    {
     "name": "stderr",
     "output_type": "stream",
     "text": [
      "Metric val_loss improved by 0.000 >= min_delta = 0.0. New best score: 0.002\n"
     ]
    },
    {
     "name": "stdout",
     "output_type": "stream",
     "text": [
      "Epoch 344: 100%|██████████| 22/22 [00:01<00:00, 11.64it/s, loss=0.00249, v_num=1, train_loss_step=0.0039, val_loss=0.00241, train_loss_epoch=0.00249] "
     ]
    },
    {
     "name": "stderr",
     "output_type": "stream",
     "text": [
      "Metric val_loss improved by 0.000 >= min_delta = 0.0. New best score: 0.002\n"
     ]
    },
    {
     "name": "stdout",
     "output_type": "stream",
     "text": [
      "Epoch 353: 100%|██████████| 22/22 [00:01<00:00, 13.36it/s, loss=0.0024, v_num=1, train_loss_step=0.00282, val_loss=0.00238, train_loss_epoch=0.00243] "
     ]
    },
    {
     "name": "stderr",
     "output_type": "stream",
     "text": [
      "Metric val_loss improved by 0.000 >= min_delta = 0.0. New best score: 0.002\n"
     ]
    },
    {
     "name": "stdout",
     "output_type": "stream",
     "text": [
      "Epoch 355: 100%|██████████| 22/22 [00:01<00:00, 12.69it/s, loss=0.00232, v_num=1, train_loss_step=0.00189, val_loss=0.00232, train_loss_epoch=0.00236]"
     ]
    },
    {
     "name": "stderr",
     "output_type": "stream",
     "text": [
      "Metric val_loss improved by 0.000 >= min_delta = 0.0. New best score: 0.002\n"
     ]
    },
    {
     "name": "stdout",
     "output_type": "stream",
     "text": [
      "Epoch 369: 100%|██████████| 22/22 [00:01<00:00, 13.03it/s, loss=0.00235, v_num=1, train_loss_step=0.00198, val_loss=0.00228, train_loss_epoch=0.00233]"
     ]
    },
    {
     "name": "stderr",
     "output_type": "stream",
     "text": [
      "Metric val_loss improved by 0.000 >= min_delta = 0.0. New best score: 0.002\n"
     ]
    },
    {
     "name": "stdout",
     "output_type": "stream",
     "text": [
      "Epoch 382: 100%|██████████| 22/22 [00:01<00:00, 11.77it/s, loss=0.00227, v_num=1, train_loss_step=0.00204, val_loss=0.00227, train_loss_epoch=0.00236]"
     ]
    },
    {
     "name": "stderr",
     "output_type": "stream",
     "text": [
      "Metric val_loss improved by 0.000 >= min_delta = 0.0. New best score: 0.002\n"
     ]
    },
    {
     "name": "stdout",
     "output_type": "stream",
     "text": [
      "Epoch 385: 100%|██████████| 22/22 [00:01<00:00, 13.17it/s, loss=0.00225, v_num=1, train_loss_step=0.00184, val_loss=0.00225, train_loss_epoch=0.00234]"
     ]
    },
    {
     "name": "stderr",
     "output_type": "stream",
     "text": [
      "Metric val_loss improved by 0.000 >= min_delta = 0.0. New best score: 0.002\n"
     ]
    },
    {
     "name": "stdout",
     "output_type": "stream",
     "text": [
      "Epoch 386: 100%|██████████| 22/22 [00:01<00:00, 11.67it/s, loss=0.00222, v_num=1, train_loss_step=0.00226, val_loss=0.00225, train_loss_epoch=0.00227]"
     ]
    },
    {
     "name": "stderr",
     "output_type": "stream",
     "text": [
      "Metric val_loss improved by 0.000 >= min_delta = 0.0. New best score: 0.002\n"
     ]
    },
    {
     "name": "stdout",
     "output_type": "stream",
     "text": [
      "Epoch 392: 100%|██████████| 22/22 [00:01<00:00, 11.66it/s, loss=0.00235, v_num=1, train_loss_step=0.00239, val_loss=0.00224, train_loss_epoch=0.00227]"
     ]
    },
    {
     "name": "stderr",
     "output_type": "stream",
     "text": [
      "Metric val_loss improved by 0.000 >= min_delta = 0.0. New best score: 0.002\n"
     ]
    },
    {
     "name": "stdout",
     "output_type": "stream",
     "text": [
      "Epoch 404: 100%|██████████| 22/22 [00:01<00:00, 11.55it/s, loss=0.00227, v_num=1, train_loss_step=0.0038, val_loss=0.00219, train_loss_epoch=0.00229] "
     ]
    },
    {
     "name": "stderr",
     "output_type": "stream",
     "text": [
      "Metric val_loss improved by 0.000 >= min_delta = 0.0. New best score: 0.002\n"
     ]
    },
    {
     "name": "stdout",
     "output_type": "stream",
     "text": [
      "Epoch 427: 100%|██████████| 22/22 [00:01<00:00, 13.20it/s, loss=0.00214, v_num=1, train_loss_step=0.00199, val_loss=0.00218, train_loss_epoch=0.00223]"
     ]
    },
    {
     "name": "stderr",
     "output_type": "stream",
     "text": [
      "Metric val_loss improved by 0.000 >= min_delta = 0.0. New best score: 0.002\n"
     ]
    },
    {
     "name": "stdout",
     "output_type": "stream",
     "text": [
      "Epoch 428: 100%|██████████| 22/22 [00:01<00:00, 11.52it/s, loss=0.00215, v_num=1, train_loss_step=0.00204, val_loss=0.00214, train_loss_epoch=0.00216]"
     ]
    },
    {
     "name": "stderr",
     "output_type": "stream",
     "text": [
      "Metric val_loss improved by 0.000 >= min_delta = 0.0. New best score: 0.002\n"
     ]
    },
    {
     "name": "stdout",
     "output_type": "stream",
     "text": [
      "Epoch 438: 100%|██████████| 22/22 [00:01<00:00, 11.92it/s, loss=0.00219, v_num=1, train_loss_step=0.0029, val_loss=0.00209, train_loss_epoch=0.00209] "
     ]
    },
    {
     "name": "stderr",
     "output_type": "stream",
     "text": [
      "Metric val_loss improved by 0.000 >= min_delta = 0.0. New best score: 0.002\n"
     ]
    },
    {
     "name": "stdout",
     "output_type": "stream",
     "text": [
      "Epoch 457: 100%|██████████| 22/22 [00:01<00:00, 13.19it/s, loss=0.00203, v_num=1, train_loss_step=0.00188, val_loss=0.00209, train_loss_epoch=0.00203]"
     ]
    },
    {
     "name": "stderr",
     "output_type": "stream",
     "text": [
      "Metric val_loss improved by 0.000 >= min_delta = 0.0. New best score: 0.002\n"
     ]
    },
    {
     "name": "stdout",
     "output_type": "stream",
     "text": [
      "Epoch 458: 100%|██████████| 22/22 [00:01<00:00, 11.38it/s, loss=0.00203, v_num=1, train_loss_step=0.00205, val_loss=0.00207, train_loss_epoch=0.00202]"
     ]
    },
    {
     "name": "stderr",
     "output_type": "stream",
     "text": [
      "Metric val_loss improved by 0.000 >= min_delta = 0.0. New best score: 0.002\n"
     ]
    },
    {
     "name": "stdout",
     "output_type": "stream",
     "text": [
      "Epoch 471: 100%|██████████| 22/22 [00:01<00:00, 13.19it/s, loss=0.00196, v_num=1, train_loss_step=0.00165, val_loss=0.00206, train_loss_epoch=0.00203]"
     ]
    },
    {
     "name": "stderr",
     "output_type": "stream",
     "text": [
      "Metric val_loss improved by 0.000 >= min_delta = 0.0. New best score: 0.002\n"
     ]
    },
    {
     "name": "stdout",
     "output_type": "stream",
     "text": [
      "Epoch 483: 100%|██████████| 22/22 [00:01<00:00, 13.08it/s, loss=0.00204, v_num=1, train_loss_step=0.00185, val_loss=0.00203, train_loss_epoch=0.00202]"
     ]
    },
    {
     "name": "stderr",
     "output_type": "stream",
     "text": [
      "Metric val_loss improved by 0.000 >= min_delta = 0.0. New best score: 0.002\n"
     ]
    },
    {
     "name": "stdout",
     "output_type": "stream",
     "text": [
      "Epoch 488: 100%|██████████| 22/22 [00:01<00:00, 11.50it/s, loss=0.00195, v_num=1, train_loss_step=0.00189, val_loss=0.00197, train_loss_epoch=0.00201]"
     ]
    },
    {
     "name": "stderr",
     "output_type": "stream",
     "text": [
      "Metric val_loss improved by 0.000 >= min_delta = 0.0. New best score: 0.002\n"
     ]
    },
    {
     "name": "stdout",
     "output_type": "stream",
     "text": [
      "Epoch 511: 100%|██████████| 22/22 [00:01<00:00, 14.69it/s, loss=0.00194, v_num=1, train_loss_step=0.00227, val_loss=0.00192, train_loss_epoch=0.00195]"
     ]
    },
    {
     "name": "stderr",
     "output_type": "stream",
     "text": [
      "Metric val_loss improved by 0.000 >= min_delta = 0.0. New best score: 0.002\n"
     ]
    },
    {
     "name": "stdout",
     "output_type": "stream",
     "text": [
      "Epoch 537: 100%|██████████| 22/22 [00:01<00:00, 14.90it/s, loss=0.00186, v_num=1, train_loss_step=0.00226, val_loss=0.00187, train_loss_epoch=0.00188]"
     ]
    },
    {
     "name": "stderr",
     "output_type": "stream",
     "text": [
      "Metric val_loss improved by 0.000 >= min_delta = 0.0. New best score: 0.002\n"
     ]
    },
    {
     "name": "stdout",
     "output_type": "stream",
     "text": [
      "Epoch 568: 100%|██████████| 22/22 [00:01<00:00, 13.56it/s, loss=0.00182, v_num=1, train_loss_step=0.00149, val_loss=0.00184, train_loss_epoch=0.00182]"
     ]
    },
    {
     "name": "stderr",
     "output_type": "stream",
     "text": [
      "Metric val_loss improved by 0.000 >= min_delta = 0.0. New best score: 0.002\n"
     ]
    },
    {
     "name": "stdout",
     "output_type": "stream",
     "text": [
      "Epoch 603: 100%|██████████| 22/22 [00:01<00:00, 14.79it/s, loss=0.00174, v_num=1, train_loss_step=0.00165, val_loss=0.0018, train_loss_epoch=0.00176] "
     ]
    },
    {
     "name": "stderr",
     "output_type": "stream",
     "text": [
      "Metric val_loss improved by 0.000 >= min_delta = 0.0. New best score: 0.002\n"
     ]
    },
    {
     "name": "stdout",
     "output_type": "stream",
     "text": [
      "Epoch 616: 100%|██████████| 22/22 [00:01<00:00, 13.62it/s, loss=0.00169, v_num=1, train_loss_step=0.00145, val_loss=0.0018, train_loss_epoch=0.00178] "
     ]
    },
    {
     "name": "stderr",
     "output_type": "stream",
     "text": [
      "Metric val_loss improved by 0.000 >= min_delta = 0.0. New best score: 0.002\n"
     ]
    },
    {
     "name": "stdout",
     "output_type": "stream",
     "text": [
      "Epoch 622: 100%|██████████| 22/22 [00:01<00:00, 13.33it/s, loss=0.00177, v_num=1, train_loss_step=0.0017, val_loss=0.0018, train_loss_epoch=0.00175]  "
     ]
    },
    {
     "name": "stderr",
     "output_type": "stream",
     "text": [
      "Metric val_loss improved by 0.000 >= min_delta = 0.0. New best score: 0.002\n"
     ]
    },
    {
     "name": "stdout",
     "output_type": "stream",
     "text": [
      "Epoch 624: 100%|██████████| 22/22 [00:01<00:00, 13.52it/s, loss=0.00167, v_num=1, train_loss_step=0.00145, val_loss=0.00176, train_loss_epoch=0.00174]"
     ]
    },
    {
     "name": "stderr",
     "output_type": "stream",
     "text": [
      "Metric val_loss improved by 0.000 >= min_delta = 0.0. New best score: 0.002\n"
     ]
    },
    {
     "name": "stdout",
     "output_type": "stream",
     "text": [
      "Epoch 647: 100%|██████████| 22/22 [00:01<00:00, 14.56it/s, loss=0.00167, v_num=1, train_loss_step=0.00148, val_loss=0.00175, train_loss_epoch=0.00169]"
     ]
    },
    {
     "name": "stderr",
     "output_type": "stream",
     "text": [
      "Metric val_loss improved by 0.000 >= min_delta = 0.0. New best score: 0.002\n"
     ]
    },
    {
     "name": "stdout",
     "output_type": "stream",
     "text": [
      "Epoch 676: 100%|██████████| 22/22 [00:01<00:00, 13.56it/s, loss=0.00159, v_num=1, train_loss_step=0.0015, val_loss=0.00169, train_loss_epoch=0.0016]  "
     ]
    },
    {
     "name": "stderr",
     "output_type": "stream",
     "text": [
      "Metric val_loss improved by 0.000 >= min_delta = 0.0. New best score: 0.002\n"
     ]
    },
    {
     "name": "stdout",
     "output_type": "stream",
     "text": [
      "Epoch 697: 100%|██████████| 22/22 [00:01<00:00, 14.77it/s, loss=0.00153, v_num=1, train_loss_step=0.0014, val_loss=0.00167, train_loss_epoch=0.00162] "
     ]
    },
    {
     "name": "stderr",
     "output_type": "stream",
     "text": [
      "Metric val_loss improved by 0.000 >= min_delta = 0.0. New best score: 0.002\n"
     ]
    },
    {
     "name": "stdout",
     "output_type": "stream",
     "text": [
      "Epoch 704: 100%|██████████| 22/22 [00:01<00:00, 13.70it/s, loss=0.0016, v_num=1, train_loss_step=0.00296, val_loss=0.00166, train_loss_epoch=0.00153] "
     ]
    },
    {
     "name": "stderr",
     "output_type": "stream",
     "text": [
      "Metric val_loss improved by 0.000 >= min_delta = 0.0. New best score: 0.002\n"
     ]
    },
    {
     "name": "stdout",
     "output_type": "stream",
     "text": [
      "Epoch 706: 100%|██████████| 22/22 [00:01<00:00, 13.45it/s, loss=0.00167, v_num=1, train_loss_step=0.00195, val_loss=0.00166, train_loss_epoch=0.00165]"
     ]
    },
    {
     "name": "stderr",
     "output_type": "stream",
     "text": [
      "Metric val_loss improved by 0.000 >= min_delta = 0.0. New best score: 0.002\n"
     ]
    },
    {
     "name": "stdout",
     "output_type": "stream",
     "text": [
      "Epoch 725: 100%|██████████| 22/22 [00:01<00:00, 14.79it/s, loss=0.00157, v_num=1, train_loss_step=0.00137, val_loss=0.00163, train_loss_epoch=0.00165]"
     ]
    },
    {
     "name": "stderr",
     "output_type": "stream",
     "text": [
      "Metric val_loss improved by 0.000 >= min_delta = 0.0. New best score: 0.002\n"
     ]
    },
    {
     "name": "stdout",
     "output_type": "stream",
     "text": [
      "Epoch 734: 100%|██████████| 22/22 [00:01<00:00, 13.70it/s, loss=0.00149, v_num=1, train_loss_step=0.0015, val_loss=0.00162, train_loss_epoch=0.00154] "
     ]
    },
    {
     "name": "stderr",
     "output_type": "stream",
     "text": [
      "Metric val_loss improved by 0.000 >= min_delta = 0.0. New best score: 0.002\n"
     ]
    },
    {
     "name": "stdout",
     "output_type": "stream",
     "text": [
      "Epoch 790: 100%|██████████| 22/22 [00:01<00:00, 13.30it/s, loss=0.00145, v_num=1, train_loss_step=0.00148, val_loss=0.00161, train_loss_epoch=0.00148]"
     ]
    },
    {
     "name": "stderr",
     "output_type": "stream",
     "text": [
      "Metric val_loss improved by 0.000 >= min_delta = 0.0. New best score: 0.002\n"
     ]
    },
    {
     "name": "stdout",
     "output_type": "stream",
     "text": [
      "Epoch 798: 100%|██████████| 22/22 [00:01<00:00, 13.52it/s, loss=0.00142, v_num=1, train_loss_step=0.00111, val_loss=0.00158, train_loss_epoch=0.00148]"
     ]
    },
    {
     "name": "stderr",
     "output_type": "stream",
     "text": [
      "Metric val_loss improved by 0.000 >= min_delta = 0.0. New best score: 0.002\n"
     ]
    },
    {
     "name": "stdout",
     "output_type": "stream",
     "text": [
      "Epoch 804: 100%|██████████| 22/22 [00:01<00:00, 13.64it/s, loss=0.00145, v_num=1, train_loss_step=0.00154, val_loss=0.00156, train_loss_epoch=0.00155]"
     ]
    },
    {
     "name": "stderr",
     "output_type": "stream",
     "text": [
      "Metric val_loss improved by 0.000 >= min_delta = 0.0. New best score: 0.002\n"
     ]
    },
    {
     "name": "stdout",
     "output_type": "stream",
     "text": [
      "Epoch 827: 100%|██████████| 22/22 [00:01<00:00, 14.73it/s, loss=0.00146, v_num=1, train_loss_step=0.00127, val_loss=0.00155, train_loss_epoch=0.00152]"
     ]
    },
    {
     "name": "stderr",
     "output_type": "stream",
     "text": [
      "Metric val_loss improved by 0.000 >= min_delta = 0.0. New best score: 0.002\n"
     ]
    },
    {
     "name": "stdout",
     "output_type": "stream",
     "text": [
      "Epoch 834: 100%|██████████| 22/22 [00:01<00:00, 13.46it/s, loss=0.00142, v_num=1, train_loss_step=0.00144, val_loss=0.00151, train_loss_epoch=0.00148]"
     ]
    },
    {
     "name": "stderr",
     "output_type": "stream",
     "text": [
      "Metric val_loss improved by 0.000 >= min_delta = 0.0. New best score: 0.002\n"
     ]
    },
    {
     "name": "stdout",
     "output_type": "stream",
     "text": [
      "Epoch 867: 100%|██████████| 22/22 [00:01<00:00, 14.73it/s, loss=0.00133, v_num=1, train_loss_step=0.00121, val_loss=0.00146, train_loss_epoch=0.00138]"
     ]
    },
    {
     "name": "stderr",
     "output_type": "stream",
     "text": [
      "Metric val_loss improved by 0.000 >= min_delta = 0.0. New best score: 0.001\n"
     ]
    },
    {
     "name": "stdout",
     "output_type": "stream",
     "text": [
      "Epoch 914: 100%|██████████| 22/22 [00:01<00:00, 13.22it/s, loss=0.00136, v_num=1, train_loss_step=0.00125, val_loss=0.00146, train_loss_epoch=0.00139]"
     ]
    },
    {
     "name": "stderr",
     "output_type": "stream",
     "text": [
      "Metric val_loss improved by 0.000 >= min_delta = 0.0. New best score: 0.001\n"
     ]
    },
    {
     "name": "stdout",
     "output_type": "stream",
     "text": [
      "Epoch 927: 100%|██████████| 22/22 [00:01<00:00, 14.64it/s, loss=0.00133, v_num=1, train_loss_step=0.00135, val_loss=0.00144, train_loss_epoch=0.0013] "
     ]
    },
    {
     "name": "stderr",
     "output_type": "stream",
     "text": [
      "Metric val_loss improved by 0.000 >= min_delta = 0.0. New best score: 0.001\n"
     ]
    },
    {
     "name": "stdout",
     "output_type": "stream",
     "text": [
      "Epoch 969: 100%|██████████| 22/22 [00:01<00:00, 14.84it/s, loss=0.00127, v_num=1, train_loss_step=0.0014, val_loss=0.00143, train_loss_epoch=0.00128]  "
     ]
    },
    {
     "name": "stderr",
     "output_type": "stream",
     "text": [
      "Metric val_loss improved by 0.000 >= min_delta = 0.0. New best score: 0.001\n"
     ]
    },
    {
     "name": "stdout",
     "output_type": "stream",
     "text": [
      "Epoch 988: 100%|██████████| 22/22 [00:01<00:00, 13.38it/s, loss=0.00127, v_num=1, train_loss_step=0.00111, val_loss=0.00141, train_loss_epoch=0.00132]"
     ]
    },
    {
     "name": "stderr",
     "output_type": "stream",
     "text": [
      "Metric val_loss improved by 0.000 >= min_delta = 0.0. New best score: 0.001\n"
     ]
    },
    {
     "name": "stdout",
     "output_type": "stream",
     "text": [
      "Epoch 999: 100%|██████████| 22/22 [00:01<00:00, 14.50it/s, loss=0.00128, v_num=1, train_loss_step=0.00107, val_loss=0.0015, train_loss_epoch=0.00131] "
     ]
    },
    {
     "name": "stderr",
     "output_type": "stream",
     "text": [
      "`Trainer.fit` stopped: `max_epochs=1000` reached.\n"
     ]
    },
    {
     "name": "stdout",
     "output_type": "stream",
     "text": [
      "Epoch 999: 100%|██████████| 22/22 [00:01<00:00, 14.28it/s, loss=0.00128, v_num=1, train_loss_step=0.00107, val_loss=0.0015, train_loss_epoch=0.00131]\n"
     ]
    }
   ],
   "source": [
    "early_stopping = EarlyStopping(monitor='val_loss', patience=100, verbose=True, mode='min')\n",
    "trainer_args = {\n",
    "    'max_epochs': 1000,\n",
    "    'gpus': [0] if torch.cuda.is_available() else [],\n",
    "    'callbacks': [early_stopping],\n",
    "    'enable_progress_bar': True,    \n",
    "}\n",
    "\n",
    "\n",
    "\n",
    "trainer = pl.Trainer(**trainer_args)\n",
    "trainer.fit(model, train_dataloader, val_dataloader)"
   ]
  },
  {
   "cell_type": "code",
   "execution_count": 16,
   "metadata": {},
   "outputs": [
    {
     "data": {
      "image/png": "[encoded data removed]",
      "text/plain": [
       "<Figure size 640x480 with 1 Axes>"
      ]
     },
     "metadata": {},
     "output_type": "display_data"
    }
   ],
   "source": [
    "# ploteo del train loss y el validation loss\n",
    "version_nr = 63\n",
    "\n",
    "loss_file = pd.read_csv(f'lightning_logs/version_{version_nr}/metrics.csv')\n",
    "plt.plot(loss_file['val_loss'].loc[~np.isnan(loss_file['val_loss'])] , label='Validation Loss')\n",
    "plt.plot(loss_file['train_loss_epoch'].loc[~np.isnan(loss_file['train_loss_epoch'])], label='Train Loss')\n",
    "plt.yscale('log')\n",
    "plt.legend()\n",
    "plt.show()"
   ]
  },
  {
   "cell_type": "code",
   "execution_count": 22,
   "metadata": {},
   "outputs": [],
   "source": [
    "torch.save(model.state_dict(), './rnn_1_model.pth')\n"
   ]
  },
  {
   "cell_type": "code",
   "execution_count": null,
   "metadata": {},
   "outputs": [],
   "source": [
    "ckpt = torch.load('./rnn_1_model.pth')\n",
    "model.load_state_dict(ckpt)\n",
    "model"
   ]
  },
  {
   "cell_type": "code",
   "execution_count": 27,
   "metadata": {},
   "outputs": [
    {
     "name": "stdout",
     "output_type": "stream",
     "text": [
      "MAE: 1.813988277473702\n",
      "MSE: 5.878172280558254\n"
     ]
    },
    {
     "data": {
      "image/png": "[encoded data removed]",
      "text/plain": [
       "<Figure size 640x480 with 1 Axes>"
      ]
     },
     "metadata": {},
     "output_type": "display_data"
    },
    {
     "data": {
      "image/png": "[encoded data removed]",
      "text/plain": [
       "<Figure size 640x480 with 1 Axes>"
      ]
     },
     "metadata": {},
     "output_type": "display_data"
    }
   ],
   "source": [
    "#model.load_from_checkpoint(f'/home/arturo/Documents/capgemini/lightning_logs/version_58/checkpoints/epoch=96-step=1455.ckpt')\n",
    "\n",
    "model.eval()\n",
    "\n",
    "# Predecimos los valores de test\n",
    "predictions = []\n",
    "truth = []\n",
    "with torch.no_grad():\n",
    "    for x, y in test_dataloader:\n",
    "        prediction = model(x)\n",
    "        predictions.append(prediction)\n",
    "        truth.append(y)\n",
    "        \n",
    "predictions = torch.cat(predictions).cpu().numpy()\n",
    "truth = torch.cat(truth).cpu().numpy()\n",
    "\n",
    "# Desnormalizamos los valores\n",
    "predictions = scaler.inverse_transform(np.concatenate((np.zeros((len(predictions), scaled_data.shape[1]-1)), predictions), axis=1))[:, -1]\n",
    "truth = scaler.inverse_transform(np.concatenate((np.zeros((len(truth), scaled_data.shape[1]-1)), truth), axis=1))[:, -1]\n",
    "\n",
    "# Calculamos el error\n",
    "error = np.abs(predictions - truth)\n",
    "print(f'MAE: {np.mean(error)}')\n",
    "print(f'MSE: {np.mean(error**2)}')\n",
    "\n",
    "# Comparacion de la prediccion con el valor real\n",
    "plt.plot(truth, label='Valor real')\n",
    "plt.plot(predictions, label='Prediccion')\n",
    "plt.title('Comparacion de la prediccion con el valor real')\n",
    "plt.xlabel('Tiempo[h]')\n",
    "plt.ylabel('pm2.5')\n",
    "plt.legend()\n",
    "plt.show()\n",
    "\n",
    "# Grafica del error\n",
    "plt.plot(error, label='Error')\n",
    "plt.xlabel('Tiempo[h]')\n",
    "plt.ylabel('Error')\n",
    "plt.show()"
   ]
  },
  {
   "cell_type": "markdown",
   "metadata": {},
   "source": [
    "# Transformer model\n",
    "\n",
    "Cuando el data es dependiente del tiempo, siempre es recomendable intentar transformers\n",
    "\n",
    "Es un modelo computacionalmente costoso, por lo que no es recomendable si se quiere optimizar el tiempo de computacion."
   ]
  },
  {
   "cell_type": "code",
   "execution_count": 37,
   "metadata": {},
   "outputs": [
    {
     "name": "stderr",
     "output_type": "stream",
     "text": [
      "/home/arturo/miniconda3/envs/graphnet/lib/python3.8/site-packages/torch/nn/modules/transformer.py:307: UserWarning: enable_nested_tensor is True, but self.use_nested_tensor is False because encoder_layer.self_attn.batch_first was not True(use batch_first for better inference performance)\n",
      "  warnings.warn(f\"enable_nested_tensor is True, but self.use_nested_tensor is False because {why_not_sparsity_fast_path}\")\n",
      "/home/arturo/miniconda3/envs/graphnet/lib/python3.8/site-packages/pytorch_lightning/trainer/connectors/accelerator_connector.py:478: LightningDeprecationWarning: Setting `Trainer(gpus=[0])` is deprecated in v1.7 and will be removed in v2.0. Please use `Trainer(accelerator='gpu', devices=[0])` instead.\n",
      "  rank_zero_deprecation(\n",
      "GPU available: True (cuda), used: True\n",
      "TPU available: False, using: 0 TPU cores\n",
      "IPU available: False, using: 0 IPUs\n",
      "HPU available: False, using: 0 HPUs\n"
     ]
    }
   ],
   "source": [
    "# Now define a transformer model to predict the PM2.5 value\n",
    "\n",
    "class Transformer(BaseModel):\n",
    "    def __init__(self, \n",
    "                 input_dim: int,\n",
    "                 hidden_dim: int,\n",
    "                 output_dim: int,\n",
    "                 n_layers: int, \n",
    "                 n_heads: int,\n",
    "                 dropout: float,\n",
    "                 loss_fn: torch.nn.Module,\n",
    "                 optimizer: torch.optim.Optimizer,\n",
    "                 optimizer_args: dict,\n",
    "                 ):\n",
    "        super().__init__(loss_fn=loss_fn, optimizer=optimizer, optimizer_args=optimizer_args)\n",
    "        self.encoder = nn.TransformerEncoder(\n",
    "            nn.TransformerEncoderLayer(\n",
    "                d_model=input_dim,\n",
    "                nhead=n_heads,\n",
    "                dim_feedforward=hidden_dim,\n",
    "                dropout=dropout,\n",
    "                activation='relu'\n",
    "            ),\n",
    "            num_layers=n_layers\n",
    "        )\n",
    "        self.fc = nn.Linear(input_dim, output_dim)\n",
    "    \n",
    "    def forward(self, x):\n",
    "        x = self.encoder(x)\n",
    "        x = self.fc(x[:, -1, :])\n",
    "        return x\n",
    "    \n",
    "    def configure_optimizers(self):\n",
    "        optimizer = self.optimizer(self.parameters(), **self.optimizer_args)\n",
    "        return optimizer\n",
    "    \n",
    "    \n",
    "# Definimos el modelo de Transformer que se usara para la tarea de regresion\n",
    "input_dim = scaled_data.shape[1]-1\n",
    "hidden_dim = 20\n",
    "n_layers = 2\n",
    "n_heads = 2\n",
    "dropout = 0.1\n",
    "output_dim = 1\n",
    "loss = nn.MSELoss()\n",
    "optimizer = torch.optim.Adam\n",
    "optimizer_args = {'lr': 1e-3}\n",
    "\n",
    "model = Transformer(input_dim, hidden_dim, output_dim, n_layers, n_heads, dropout, loss, optimizer, optimizer_args)\n",
    "\n",
    "early_stopping = EarlyStopping(monitor='val_loss', patience=20, verbose=True, mode='min')\n",
    "trainer_args = {\n",
    "    'max_epochs': 400,\n",
    "    'gpus': [0] if torch.cuda.is_available() else [],\n",
    "    'callbacks': [early_stopping],\n",
    "    'enable_progress_bar': True,    \n",
    "}\n",
    "\n",
    "trainer = pl.Trainer(**trainer_args)\n"
   ]
  },
  {
   "cell_type": "code",
   "execution_count": 29,
   "metadata": {},
   "outputs": [
    {
     "name": "stderr",
     "output_type": "stream",
     "text": [
      "LOCAL_RANK: 0 - CUDA_VISIBLE_DEVICES: [0]\n",
      "\n",
      "  | Name    | Type               | Params\n",
      "-----------------------------------------------\n",
      "0 | loss    | MSELoss            | 0     \n",
      "1 | encoder | TransformerEncoder | 2.4 K \n",
      "2 | fc      | Linear             | 13    \n",
      "-----------------------------------------------\n",
      "2.4 K     Trainable params\n",
      "0         Non-trainable params\n",
      "2.4 K     Total params\n",
      "0.010     Total estimated model params size (MB)\n"
     ]
    },
    {
     "name": "stdout",
     "output_type": "stream",
     "text": [
      "Sanity Checking: 0it [00:00, ?it/s]"
     ]
    },
    {
     "name": "stdout",
     "output_type": "stream",
     "text": [
      "Sanity Checking DataLoader 0:   0%|          | 0/2 [00:00<?, ?it/s]"
     ]
    },
    {
     "name": "stderr",
     "output_type": "stream",
     "text": [
      "/home/arturo/miniconda3/envs/graphnet/lib/python3.8/site-packages/pytorch_lightning/trainer/connectors/data_connector.py:224: PossibleUserWarning: The dataloader, val_dataloader 0, does not have many workers which may be a bottleneck. Consider increasing the value of the `num_workers` argument` (try 8 which is the number of cpus on this machine) in the `DataLoader` init to improve performance.\n",
      "  rank_zero_warn(\n"
     ]
    },
    {
     "name": "stdout",
     "output_type": "stream",
     "text": [
      "                                                                           "
     ]
    },
    {
     "name": "stderr",
     "output_type": "stream",
     "text": [
      "/home/arturo/miniconda3/envs/graphnet/lib/python3.8/site-packages/pytorch_lightning/trainer/connectors/data_connector.py:224: PossibleUserWarning: The dataloader, train_dataloader, does not have many workers which may be a bottleneck. Consider increasing the value of the `num_workers` argument` (try 8 which is the number of cpus on this machine) in the `DataLoader` init to improve performance.\n",
      "  rank_zero_warn(\n",
      "/home/arturo/miniconda3/envs/graphnet/lib/python3.8/site-packages/pytorch_lightning/trainer/trainer.py:1609: PossibleUserWarning: The number of training batches (17) is smaller than the logging interval Trainer(log_every_n_steps=50). Set a lower value for log_every_n_steps if you want to see logs for the training epoch.\n",
      "  rank_zero_warn(\n"
     ]
    },
    {
     "name": "stdout",
     "output_type": "stream",
     "text": [
      "Epoch 0: 100%|██████████| 22/22 [00:24<00:00,  1.12s/it, loss=0.135, v_num=2, train_loss_step=0.0715, val_loss=0.0491]"
     ]
    },
    {
     "name": "stderr",
     "output_type": "stream",
     "text": [
      "Metric val_loss improved. New best score: 0.049\n"
     ]
    },
    {
     "name": "stdout",
     "output_type": "stream",
     "text": [
      "Epoch 1: 100%|██████████| 22/22 [00:24<00:00,  1.12s/it, loss=0.0496, v_num=2, train_loss_step=0.0308, val_loss=0.0186, train_loss_epoch=0.138]"
     ]
    },
    {
     "name": "stderr",
     "output_type": "stream",
     "text": [
      "Metric val_loss improved by 0.031 >= min_delta = 0.0. New best score: 0.019\n"
     ]
    },
    {
     "name": "stdout",
     "output_type": "stream",
     "text": [
      "Epoch 2: 100%|██████████| 22/22 [00:24<00:00,  1.13s/it, loss=0.0265, v_num=2, train_loss_step=0.024, val_loss=0.0122, train_loss_epoch=0.0457] "
     ]
    },
    {
     "name": "stderr",
     "output_type": "stream",
     "text": [
      "Metric val_loss improved by 0.006 >= min_delta = 0.0. New best score: 0.012\n"
     ]
    },
    {
     "name": "stdout",
     "output_type": "stream",
     "text": [
      "Epoch 3: 100%|██████████| 22/22 [00:24<00:00,  1.12s/it, loss=0.0197, v_num=2, train_loss_step=0.0165, val_loss=0.00957, train_loss_epoch=0.0254]"
     ]
    },
    {
     "name": "stderr",
     "output_type": "stream",
     "text": [
      "Metric val_loss improved by 0.003 >= min_delta = 0.0. New best score: 0.010\n"
     ]
    },
    {
     "name": "stdout",
     "output_type": "stream",
     "text": [
      "Epoch 4: 100%|██████████| 22/22 [00:24<00:00,  1.13s/it, loss=0.0162, v_num=2, train_loss_step=0.0145, val_loss=0.00829, train_loss_epoch=0.0192]"
     ]
    },
    {
     "name": "stderr",
     "output_type": "stream",
     "text": [
      "Metric val_loss improved by 0.001 >= min_delta = 0.0. New best score: 0.008\n"
     ]
    },
    {
     "name": "stdout",
     "output_type": "stream",
     "text": [
      "Epoch 5: 100%|██████████| 22/22 [00:24<00:00,  1.12s/it, loss=0.0145, v_num=2, train_loss_step=0.016, val_loss=0.00766, train_loss_epoch=0.0161] "
     ]
    },
    {
     "name": "stderr",
     "output_type": "stream",
     "text": [
      "Metric val_loss improved by 0.001 >= min_delta = 0.0. New best score: 0.008\n"
     ]
    },
    {
     "name": "stdout",
     "output_type": "stream",
     "text": [
      "Epoch 6: 100%|██████████| 22/22 [00:24<00:00,  1.13s/it, loss=0.0132, v_num=2, train_loss_step=0.0109, val_loss=0.00729, train_loss_epoch=0.0143]"
     ]
    },
    {
     "name": "stderr",
     "output_type": "stream",
     "text": [
      "Metric val_loss improved by 0.000 >= min_delta = 0.0. New best score: 0.007\n"
     ]
    },
    {
     "name": "stdout",
     "output_type": "stream",
     "text": [
      "Epoch 7: 100%|██████████| 22/22 [00:24<00:00,  1.12s/it, loss=0.0121, v_num=2, train_loss_step=0.012, val_loss=0.00709, train_loss_epoch=0.0132] "
     ]
    },
    {
     "name": "stderr",
     "output_type": "stream",
     "text": [
      "Metric val_loss improved by 0.000 >= min_delta = 0.0. New best score: 0.007\n"
     ]
    },
    {
     "name": "stdout",
     "output_type": "stream",
     "text": [
      "Epoch 8: 100%|██████████| 22/22 [00:24<00:00,  1.13s/it, loss=0.0114, v_num=2, train_loss_step=0.011, val_loss=0.00695, train_loss_epoch=0.0122] "
     ]
    },
    {
     "name": "stderr",
     "output_type": "stream",
     "text": [
      "Metric val_loss improved by 0.000 >= min_delta = 0.0. New best score: 0.007\n"
     ]
    },
    {
     "name": "stdout",
     "output_type": "stream",
     "text": [
      "Epoch 9: 100%|██████████| 22/22 [00:24<00:00,  1.12s/it, loss=0.0107, v_num=2, train_loss_step=0.00844, val_loss=0.00687, train_loss_epoch=0.0114]"
     ]
    },
    {
     "name": "stderr",
     "output_type": "stream",
     "text": [
      "Metric val_loss improved by 0.000 >= min_delta = 0.0. New best score: 0.007\n"
     ]
    },
    {
     "name": "stdout",
     "output_type": "stream",
     "text": [
      "Epoch 10: 100%|██████████| 22/22 [00:24<00:00,  1.12s/it, loss=0.0104, v_num=2, train_loss_step=0.0122, val_loss=0.00683, train_loss_epoch=0.0107] "
     ]
    },
    {
     "name": "stderr",
     "output_type": "stream",
     "text": [
      "Metric val_loss improved by 0.000 >= min_delta = 0.0. New best score: 0.007\n"
     ]
    },
    {
     "name": "stdout",
     "output_type": "stream",
     "text": [
      "Epoch 11: 100%|██████████| 22/22 [00:24<00:00,  1.13s/it, loss=0.01, v_num=2, train_loss_step=0.00852, val_loss=0.0068, train_loss_epoch=0.0104]   "
     ]
    },
    {
     "name": "stderr",
     "output_type": "stream",
     "text": [
      "Metric val_loss improved by 0.000 >= min_delta = 0.0. New best score: 0.007\n"
     ]
    },
    {
     "name": "stdout",
     "output_type": "stream",
     "text": [
      "Epoch 12: 100%|██████████| 22/22 [00:24<00:00,  1.12s/it, loss=0.00956, v_num=2, train_loss_step=0.00912, val_loss=0.00678, train_loss_epoch=0.010]"
     ]
    },
    {
     "name": "stderr",
     "output_type": "stream",
     "text": [
      "Metric val_loss improved by 0.000 >= min_delta = 0.0. New best score: 0.007\n"
     ]
    },
    {
     "name": "stdout",
     "output_type": "stream",
     "text": [
      "Epoch 13: 100%|██████████| 22/22 [00:24<00:00,  1.13s/it, loss=0.00936, v_num=2, train_loss_step=0.00931, val_loss=0.00678, train_loss_epoch=0.00963]"
     ]
    },
    {
     "name": "stderr",
     "output_type": "stream",
     "text": [
      "Metric val_loss improved by 0.000 >= min_delta = 0.0. New best score: 0.007\n"
     ]
    },
    {
     "name": "stdout",
     "output_type": "stream",
     "text": [
      "Epoch 14: 100%|██████████| 22/22 [00:24<00:00,  1.12s/it, loss=0.00915, v_num=2, train_loss_step=0.00979, val_loss=0.00673, train_loss_epoch=0.00938]"
     ]
    },
    {
     "name": "stderr",
     "output_type": "stream",
     "text": [
      "Metric val_loss improved by 0.000 >= min_delta = 0.0. New best score: 0.007\n"
     ]
    },
    {
     "name": "stdout",
     "output_type": "stream",
     "text": [
      "Epoch 15: 100%|██████████| 22/22 [00:24<00:00,  1.13s/it, loss=0.009, v_num=2, train_loss_step=0.0101, val_loss=0.00671, train_loss_epoch=0.00919]   "
     ]
    },
    {
     "name": "stderr",
     "output_type": "stream",
     "text": [
      "Metric val_loss improved by 0.000 >= min_delta = 0.0. New best score: 0.007\n"
     ]
    },
    {
     "name": "stdout",
     "output_type": "stream",
     "text": [
      "Epoch 16: 100%|██████████| 22/22 [00:24<00:00,  1.12s/it, loss=0.00891, v_num=2, train_loss_step=0.00927, val_loss=0.00668, train_loss_epoch=0.00891]"
     ]
    },
    {
     "name": "stderr",
     "output_type": "stream",
     "text": [
      "Metric val_loss improved by 0.000 >= min_delta = 0.0. New best score: 0.007\n"
     ]
    },
    {
     "name": "stdout",
     "output_type": "stream",
     "text": [
      "Epoch 17: 100%|██████████| 22/22 [00:24<00:00,  1.13s/it, loss=0.00875, v_num=2, train_loss_step=0.00936, val_loss=0.00666, train_loss_epoch=0.00875]"
     ]
    },
    {
     "name": "stderr",
     "output_type": "stream",
     "text": [
      "Metric val_loss improved by 0.000 >= min_delta = 0.0. New best score: 0.007\n"
     ]
    },
    {
     "name": "stdout",
     "output_type": "stream",
     "text": [
      "Epoch 18: 100%|██████████| 22/22 [00:24<00:00,  1.12s/it, loss=0.00851, v_num=2, train_loss_step=0.00813, val_loss=0.00663, train_loss_epoch=0.00864]"
     ]
    },
    {
     "name": "stderr",
     "output_type": "stream",
     "text": [
      "Metric val_loss improved by 0.000 >= min_delta = 0.0. New best score: 0.007\n"
     ]
    },
    {
     "name": "stdout",
     "output_type": "stream",
     "text": [
      "Epoch 19: 100%|██████████| 22/22 [00:24<00:00,  1.13s/it, loss=0.00826, v_num=2, train_loss_step=0.00667, val_loss=0.00663, train_loss_epoch=0.00847]"
     ]
    },
    {
     "name": "stderr",
     "output_type": "stream",
     "text": [
      "Metric val_loss improved by 0.000 >= min_delta = 0.0. New best score: 0.007\n"
     ]
    },
    {
     "name": "stdout",
     "output_type": "stream",
     "text": [
      "Epoch 20: 100%|██████████| 22/22 [00:24<00:00,  1.12s/it, loss=0.00819, v_num=2, train_loss_step=0.00805, val_loss=0.00659, train_loss_epoch=0.00837]"
     ]
    },
    {
     "name": "stderr",
     "output_type": "stream",
     "text": [
      "Metric val_loss improved by 0.000 >= min_delta = 0.0. New best score: 0.007\n"
     ]
    },
    {
     "name": "stdout",
     "output_type": "stream",
     "text": [
      "Epoch 21: 100%|██████████| 22/22 [00:24<00:00,  1.12s/it, loss=0.00811, v_num=2, train_loss_step=0.0076, val_loss=0.00656, train_loss_epoch=0.00822] "
     ]
    },
    {
     "name": "stderr",
     "output_type": "stream",
     "text": [
      "Metric val_loss improved by 0.000 >= min_delta = 0.0. New best score: 0.007\n"
     ]
    },
    {
     "name": "stdout",
     "output_type": "stream",
     "text": [
      "Epoch 22: 100%|██████████| 22/22 [00:24<00:00,  1.13s/it, loss=0.00791, v_num=2, train_loss_step=0.00638, val_loss=0.00653, train_loss_epoch=0.00813]"
     ]
    },
    {
     "name": "stderr",
     "output_type": "stream",
     "text": [
      "Metric val_loss improved by 0.000 >= min_delta = 0.0. New best score: 0.007\n"
     ]
    },
    {
     "name": "stdout",
     "output_type": "stream",
     "text": [
      "Epoch 23: 100%|██████████| 22/22 [00:24<00:00,  1.12s/it, loss=0.00783, v_num=2, train_loss_step=0.00692, val_loss=0.00651, train_loss_epoch=0.00801]"
     ]
    },
    {
     "name": "stderr",
     "output_type": "stream",
     "text": [
      "Metric val_loss improved by 0.000 >= min_delta = 0.0. New best score: 0.007\n"
     ]
    },
    {
     "name": "stdout",
     "output_type": "stream",
     "text": [
      "Epoch 24: 100%|██████████| 22/22 [00:24<00:00,  1.13s/it, loss=0.00782, v_num=2, train_loss_step=0.00853, val_loss=0.00649, train_loss_epoch=0.00797]"
     ]
    },
    {
     "name": "stderr",
     "output_type": "stream",
     "text": [
      "Metric val_loss improved by 0.000 >= min_delta = 0.0. New best score: 0.006\n"
     ]
    },
    {
     "name": "stdout",
     "output_type": "stream",
     "text": [
      "Epoch 25: 100%|██████████| 22/22 [00:24<00:00,  1.12s/it, loss=0.00784, v_num=2, train_loss_step=0.00825, val_loss=0.00646, train_loss_epoch=0.00783]"
     ]
    },
    {
     "name": "stderr",
     "output_type": "stream",
     "text": [
      "Metric val_loss improved by 0.000 >= min_delta = 0.0. New best score: 0.006\n"
     ]
    },
    {
     "name": "stdout",
     "output_type": "stream",
     "text": [
      "Epoch 26: 100%|██████████| 22/22 [00:24<00:00,  1.13s/it, loss=0.00785, v_num=2, train_loss_step=0.00769, val_loss=0.00645, train_loss_epoch=0.00778]"
     ]
    },
    {
     "name": "stderr",
     "output_type": "stream",
     "text": [
      "Metric val_loss improved by 0.000 >= min_delta = 0.0. New best score: 0.006\n"
     ]
    },
    {
     "name": "stdout",
     "output_type": "stream",
     "text": [
      "Epoch 27: 100%|██████████| 22/22 [00:24<00:00,  1.12s/it, loss=0.0077, v_num=2, train_loss_step=0.00653, val_loss=0.00641, train_loss_epoch=0.00774] "
     ]
    },
    {
     "name": "stderr",
     "output_type": "stream",
     "text": [
      "Metric val_loss improved by 0.000 >= min_delta = 0.0. New best score: 0.006\n"
     ]
    },
    {
     "name": "stdout",
     "output_type": "stream",
     "text": [
      "Epoch 28: 100%|██████████| 22/22 [00:24<00:00,  1.13s/it, loss=0.0076, v_num=2, train_loss_step=0.00849, val_loss=0.00639, train_loss_epoch=0.00766] "
     ]
    },
    {
     "name": "stderr",
     "output_type": "stream",
     "text": [
      "Metric val_loss improved by 0.000 >= min_delta = 0.0. New best score: 0.006\n"
     ]
    },
    {
     "name": "stdout",
     "output_type": "stream",
     "text": [
      "Epoch 29: 100%|██████████| 22/22 [00:24<00:00,  1.12s/it, loss=0.00753, v_num=2, train_loss_step=0.00659, val_loss=0.00636, train_loss_epoch=0.00758]"
     ]
    },
    {
     "name": "stderr",
     "output_type": "stream",
     "text": [
      "Metric val_loss improved by 0.000 >= min_delta = 0.0. New best score: 0.006\n"
     ]
    },
    {
     "name": "stdout",
     "output_type": "stream",
     "text": [
      "Epoch 31: 100%|██████████| 22/22 [00:24<00:00,  1.12s/it, loss=0.00755, v_num=2, train_loss_step=0.00819, val_loss=0.00634, train_loss_epoch=0.00745]"
     ]
    },
    {
     "name": "stderr",
     "output_type": "stream",
     "text": [
      "Metric val_loss improved by 0.000 >= min_delta = 0.0. New best score: 0.006\n"
     ]
    },
    {
     "name": "stdout",
     "output_type": "stream",
     "text": [
      "Epoch 32: 100%|██████████| 22/22 [00:24<00:00,  1.12s/it, loss=0.00744, v_num=2, train_loss_step=0.00752, val_loss=0.00631, train_loss_epoch=0.0075] "
     ]
    },
    {
     "name": "stderr",
     "output_type": "stream",
     "text": [
      "Metric val_loss improved by 0.000 >= min_delta = 0.0. New best score: 0.006\n"
     ]
    },
    {
     "name": "stdout",
     "output_type": "stream",
     "text": [
      "Epoch 33: 100%|██████████| 22/22 [00:24<00:00,  1.13s/it, loss=0.00735, v_num=2, train_loss_step=0.00726, val_loss=0.0063, train_loss_epoch=0.00743] "
     ]
    },
    {
     "name": "stderr",
     "output_type": "stream",
     "text": [
      "Metric val_loss improved by 0.000 >= min_delta = 0.0. New best score: 0.006\n"
     ]
    },
    {
     "name": "stdout",
     "output_type": "stream",
     "text": [
      "Epoch 35: 100%|██████████| 22/22 [00:24<00:00,  1.13s/it, loss=0.0073, v_num=2, train_loss_step=0.00674, val_loss=0.00629, train_loss_epoch=0.00736] "
     ]
    },
    {
     "name": "stderr",
     "output_type": "stream",
     "text": [
      "Metric val_loss improved by 0.000 >= min_delta = 0.0. New best score: 0.006\n"
     ]
    },
    {
     "name": "stdout",
     "output_type": "stream",
     "text": [
      "Epoch 36: 100%|██████████| 22/22 [00:24<00:00,  1.12s/it, loss=0.0073, v_num=2, train_loss_step=0.00764, val_loss=0.00625, train_loss_epoch=0.00727] "
     ]
    },
    {
     "name": "stderr",
     "output_type": "stream",
     "text": [
      "Metric val_loss improved by 0.000 >= min_delta = 0.0. New best score: 0.006\n"
     ]
    },
    {
     "name": "stdout",
     "output_type": "stream",
     "text": [
      "Epoch 37: 100%|██████████| 22/22 [00:24<00:00,  1.13s/it, loss=0.00723, v_num=2, train_loss_step=0.007, val_loss=0.00623, train_loss_epoch=0.00727]  "
     ]
    },
    {
     "name": "stderr",
     "output_type": "stream",
     "text": [
      "Metric val_loss improved by 0.000 >= min_delta = 0.0. New best score: 0.006\n"
     ]
    },
    {
     "name": "stdout",
     "output_type": "stream",
     "text": [
      "Epoch 38: 100%|██████████| 22/22 [00:24<00:00,  1.11s/it, loss=0.00713, v_num=2, train_loss_step=0.00646, val_loss=0.0062, train_loss_epoch=0.00723] "
     ]
    },
    {
     "name": "stderr",
     "output_type": "stream",
     "text": [
      "Metric val_loss improved by 0.000 >= min_delta = 0.0. New best score: 0.006\n"
     ]
    },
    {
     "name": "stdout",
     "output_type": "stream",
     "text": [
      "Epoch 39: 100%|██████████| 22/22 [00:24<00:00,  1.12s/it, loss=0.00712, v_num=2, train_loss_step=0.00692, val_loss=0.00619, train_loss_epoch=0.00717]"
     ]
    },
    {
     "name": "stderr",
     "output_type": "stream",
     "text": [
      "Metric val_loss improved by 0.000 >= min_delta = 0.0. New best score: 0.006\n"
     ]
    },
    {
     "name": "stdout",
     "output_type": "stream",
     "text": [
      "Epoch 40: 100%|██████████| 22/22 [00:24<00:00,  1.11s/it, loss=0.0071, v_num=2, train_loss_step=0.00616, val_loss=0.00617, train_loss_epoch=0.00715] "
     ]
    },
    {
     "name": "stderr",
     "output_type": "stream",
     "text": [
      "Metric val_loss improved by 0.000 >= min_delta = 0.0. New best score: 0.006\n"
     ]
    },
    {
     "name": "stdout",
     "output_type": "stream",
     "text": [
      "Epoch 41: 100%|██████████| 22/22 [00:24<00:00,  1.12s/it, loss=0.00701, v_num=2, train_loss_step=0.00641, val_loss=0.00616, train_loss_epoch=0.00713]"
     ]
    },
    {
     "name": "stderr",
     "output_type": "stream",
     "text": [
      "Metric val_loss improved by 0.000 >= min_delta = 0.0. New best score: 0.006\n"
     ]
    },
    {
     "name": "stdout",
     "output_type": "stream",
     "text": [
      "Epoch 42: 100%|██████████| 22/22 [00:24<00:00,  1.11s/it, loss=0.00702, v_num=2, train_loss_step=0.007, val_loss=0.00616, train_loss_epoch=0.00711]  "
     ]
    },
    {
     "name": "stderr",
     "output_type": "stream",
     "text": [
      "Metric val_loss improved by 0.000 >= min_delta = 0.0. New best score: 0.006\n"
     ]
    },
    {
     "name": "stdout",
     "output_type": "stream",
     "text": [
      "Epoch 43: 100%|██████████| 22/22 [00:24<00:00,  1.11s/it, loss=0.00702, v_num=2, train_loss_step=0.00591, val_loss=0.00614, train_loss_epoch=0.00705]"
     ]
    },
    {
     "name": "stderr",
     "output_type": "stream",
     "text": [
      "Metric val_loss improved by 0.000 >= min_delta = 0.0. New best score: 0.006\n"
     ]
    },
    {
     "name": "stdout",
     "output_type": "stream",
     "text": [
      "Epoch 44: 100%|██████████| 22/22 [00:24<00:00,  1.12s/it, loss=0.00702, v_num=2, train_loss_step=0.00803, val_loss=0.00613, train_loss_epoch=0.00709]"
     ]
    },
    {
     "name": "stderr",
     "output_type": "stream",
     "text": [
      "Metric val_loss improved by 0.000 >= min_delta = 0.0. New best score: 0.006\n"
     ]
    },
    {
     "name": "stdout",
     "output_type": "stream",
     "text": [
      "Epoch 45: 100%|██████████| 22/22 [00:24<00:00,  1.11s/it, loss=0.0071, v_num=2, train_loss_step=0.009, val_loss=0.00611, train_loss_epoch=0.00704]   "
     ]
    },
    {
     "name": "stderr",
     "output_type": "stream",
     "text": [
      "Metric val_loss improved by 0.000 >= min_delta = 0.0. New best score: 0.006\n"
     ]
    },
    {
     "name": "stdout",
     "output_type": "stream",
     "text": [
      "Epoch 46: 100%|██████████| 22/22 [00:24<00:00,  1.12s/it, loss=0.00707, v_num=2, train_loss_step=0.00737, val_loss=0.00611, train_loss_epoch=0.00697]"
     ]
    },
    {
     "name": "stderr",
     "output_type": "stream",
     "text": [
      "Metric val_loss improved by 0.000 >= min_delta = 0.0. New best score: 0.006\n"
     ]
    },
    {
     "name": "stdout",
     "output_type": "stream",
     "text": [
      "Epoch 47: 100%|██████████| 22/22 [00:24<00:00,  1.11s/it, loss=0.00696, v_num=2, train_loss_step=0.00627, val_loss=0.00611, train_loss_epoch=0.00697]"
     ]
    },
    {
     "name": "stderr",
     "output_type": "stream",
     "text": [
      "Metric val_loss improved by 0.000 >= min_delta = 0.0. New best score: 0.006\n"
     ]
    },
    {
     "name": "stdout",
     "output_type": "stream",
     "text": [
      "Epoch 48: 100%|██████████| 22/22 [00:24<00:00,  1.12s/it, loss=0.00687, v_num=2, train_loss_step=0.00666, val_loss=0.00608, train_loss_epoch=0.00696]"
     ]
    },
    {
     "name": "stderr",
     "output_type": "stream",
     "text": [
      "Metric val_loss improved by 0.000 >= min_delta = 0.0. New best score: 0.006\n"
     ]
    },
    {
     "name": "stdout",
     "output_type": "stream",
     "text": [
      "Epoch 50: 100%|██████████| 22/22 [00:24<00:00,  1.12s/it, loss=0.00692, v_num=2, train_loss_step=0.0077, val_loss=0.00606, train_loss_epoch=0.00686] "
     ]
    },
    {
     "name": "stderr",
     "output_type": "stream",
     "text": [
      "Metric val_loss improved by 0.000 >= min_delta = 0.0. New best score: 0.006\n"
     ]
    },
    {
     "name": "stdout",
     "output_type": "stream",
     "text": [
      "Epoch 51: 100%|██████████| 22/22 [00:24<00:00,  1.11s/it, loss=0.00688, v_num=2, train_loss_step=0.0064, val_loss=0.00605, train_loss_epoch=0.0069] "
     ]
    },
    {
     "name": "stderr",
     "output_type": "stream",
     "text": [
      "Metric val_loss improved by 0.000 >= min_delta = 0.0. New best score: 0.006\n"
     ]
    },
    {
     "name": "stdout",
     "output_type": "stream",
     "text": [
      "Epoch 52: 100%|██████████| 22/22 [00:24<00:00,  1.12s/it, loss=0.00692, v_num=2, train_loss_step=0.00831, val_loss=0.00604, train_loss_epoch=0.00688]"
     ]
    },
    {
     "name": "stderr",
     "output_type": "stream",
     "text": [
      "Metric val_loss improved by 0.000 >= min_delta = 0.0. New best score: 0.006\n"
     ]
    },
    {
     "name": "stdout",
     "output_type": "stream",
     "text": [
      "Epoch 53: 100%|██████████| 22/22 [00:24<00:00,  1.11s/it, loss=0.00682, v_num=2, train_loss_step=0.00584, val_loss=0.00603, train_loss_epoch=0.00683]"
     ]
    },
    {
     "name": "stderr",
     "output_type": "stream",
     "text": [
      "Metric val_loss improved by 0.000 >= min_delta = 0.0. New best score: 0.006\n"
     ]
    },
    {
     "name": "stdout",
     "output_type": "stream",
     "text": [
      "Epoch 54: 100%|██████████| 22/22 [00:24<00:00,  1.11s/it, loss=0.00679, v_num=2, train_loss_step=0.00806, val_loss=0.00601, train_loss_epoch=0.00681]"
     ]
    },
    {
     "name": "stderr",
     "output_type": "stream",
     "text": [
      "Metric val_loss improved by 0.000 >= min_delta = 0.0. New best score: 0.006\n"
     ]
    },
    {
     "name": "stdout",
     "output_type": "stream",
     "text": [
      "Epoch 55: 100%|██████████| 22/22 [00:24<00:00,  1.12s/it, loss=0.00676, v_num=2, train_loss_step=0.00584, val_loss=0.006, train_loss_epoch=0.00679]  "
     ]
    },
    {
     "name": "stderr",
     "output_type": "stream",
     "text": [
      "Metric val_loss improved by 0.000 >= min_delta = 0.0. New best score: 0.006\n"
     ]
    },
    {
     "name": "stdout",
     "output_type": "stream",
     "text": [
      "Epoch 56: 100%|██████████| 22/22 [00:24<00:00,  1.11s/it, loss=0.00671, v_num=2, train_loss_step=0.00658, val_loss=0.006, train_loss_epoch=0.00677]"
     ]
    },
    {
     "name": "stderr",
     "output_type": "stream",
     "text": [
      "Metric val_loss improved by 0.000 >= min_delta = 0.0. New best score: 0.006\n"
     ]
    },
    {
     "name": "stdout",
     "output_type": "stream",
     "text": [
      "Epoch 57: 100%|██████████| 22/22 [00:24<00:00,  1.12s/it, loss=0.00689, v_num=2, train_loss_step=0.00932, val_loss=0.00598, train_loss_epoch=0.00675]"
     ]
    },
    {
     "name": "stderr",
     "output_type": "stream",
     "text": [
      "Metric val_loss improved by 0.000 >= min_delta = 0.0. New best score: 0.006\n"
     ]
    },
    {
     "name": "stdout",
     "output_type": "stream",
     "text": [
      "Epoch 59: 100%|██████████| 22/22 [00:24<00:00,  1.12s/it, loss=0.0067, v_num=2, train_loss_step=0.00715, val_loss=0.00597, train_loss_epoch=0.00674] "
     ]
    },
    {
     "name": "stderr",
     "output_type": "stream",
     "text": [
      "Metric val_loss improved by 0.000 >= min_delta = 0.0. New best score: 0.006\n"
     ]
    },
    {
     "name": "stdout",
     "output_type": "stream",
     "text": [
      "Epoch 61: 100%|██████████| 22/22 [00:24<00:00,  1.12s/it, loss=0.00656, v_num=2, train_loss_step=0.00583, val_loss=0.00595, train_loss_epoch=0.0067] "
     ]
    },
    {
     "name": "stderr",
     "output_type": "stream",
     "text": [
      "Metric val_loss improved by 0.000 >= min_delta = 0.0. New best score: 0.006\n"
     ]
    },
    {
     "name": "stdout",
     "output_type": "stream",
     "text": [
      "Epoch 62: 100%|██████████| 22/22 [00:24<00:00,  1.11s/it, loss=0.0066, v_num=2, train_loss_step=0.0062, val_loss=0.00594, train_loss_epoch=0.00665]  "
     ]
    },
    {
     "name": "stderr",
     "output_type": "stream",
     "text": [
      "Metric val_loss improved by 0.000 >= min_delta = 0.0. New best score: 0.006\n"
     ]
    },
    {
     "name": "stdout",
     "output_type": "stream",
     "text": [
      "Epoch 63: 100%|██████████| 22/22 [00:24<00:00,  1.12s/it, loss=0.00659, v_num=2, train_loss_step=0.00652, val_loss=0.00593, train_loss_epoch=0.00664]"
     ]
    },
    {
     "name": "stderr",
     "output_type": "stream",
     "text": [
      "Metric val_loss improved by 0.000 >= min_delta = 0.0. New best score: 0.006\n"
     ]
    },
    {
     "name": "stdout",
     "output_type": "stream",
     "text": [
      "Epoch 64: 100%|██████████| 22/22 [00:24<00:00,  1.11s/it, loss=0.0066, v_num=2, train_loss_step=0.00553, val_loss=0.00593, train_loss_epoch=0.00659] "
     ]
    },
    {
     "name": "stderr",
     "output_type": "stream",
     "text": [
      "Metric val_loss improved by 0.000 >= min_delta = 0.0. New best score: 0.006\n"
     ]
    },
    {
     "name": "stdout",
     "output_type": "stream",
     "text": [
      "Epoch 65: 100%|██████████| 22/22 [00:24<00:00,  1.11s/it, loss=0.00654, v_num=2, train_loss_step=0.00681, val_loss=0.00591, train_loss_epoch=0.00662]"
     ]
    },
    {
     "name": "stderr",
     "output_type": "stream",
     "text": [
      "Metric val_loss improved by 0.000 >= min_delta = 0.0. New best score: 0.006\n"
     ]
    },
    {
     "name": "stdout",
     "output_type": "stream",
     "text": [
      "Epoch 67: 100%|██████████| 22/22 [00:24<00:00,  1.11s/it, loss=0.00656, v_num=2, train_loss_step=0.00785, val_loss=0.00589, train_loss_epoch=0.00653]"
     ]
    },
    {
     "name": "stderr",
     "output_type": "stream",
     "text": [
      "Metric val_loss improved by 0.000 >= min_delta = 0.0. New best score: 0.006\n"
     ]
    },
    {
     "name": "stdout",
     "output_type": "stream",
     "text": [
      "Epoch 68: 100%|██████████| 22/22 [00:24<00:00,  1.12s/it, loss=0.00661, v_num=2, train_loss_step=0.00675, val_loss=0.00587, train_loss_epoch=0.00656]"
     ]
    },
    {
     "name": "stderr",
     "output_type": "stream",
     "text": [
      "Metric val_loss improved by 0.000 >= min_delta = 0.0. New best score: 0.006\n"
     ]
    },
    {
     "name": "stdout",
     "output_type": "stream",
     "text": [
      "Epoch 72: 100%|██████████| 22/22 [00:24<00:00,  1.12s/it, loss=0.00643, v_num=2, train_loss_step=0.00606, val_loss=0.00584, train_loss_epoch=0.00648]"
     ]
    },
    {
     "name": "stderr",
     "output_type": "stream",
     "text": [
      "Metric val_loss improved by 0.000 >= min_delta = 0.0. New best score: 0.006\n"
     ]
    },
    {
     "name": "stdout",
     "output_type": "stream",
     "text": [
      "Epoch 74: 100%|██████████| 22/22 [00:24<00:00,  1.12s/it, loss=0.00645, v_num=2, train_loss_step=0.00584, val_loss=0.00581, train_loss_epoch=0.00646]"
     ]
    },
    {
     "name": "stderr",
     "output_type": "stream",
     "text": [
      "Metric val_loss improved by 0.000 >= min_delta = 0.0. New best score: 0.006\n"
     ]
    },
    {
     "name": "stdout",
     "output_type": "stream",
     "text": [
      "Epoch 75: 100%|██████████| 22/22 [00:24<00:00,  1.11s/it, loss=0.00646, v_num=2, train_loss_step=0.00665, val_loss=0.00581, train_loss_epoch=0.00644]"
     ]
    },
    {
     "name": "stderr",
     "output_type": "stream",
     "text": [
      "Metric val_loss improved by 0.000 >= min_delta = 0.0. New best score: 0.006\n"
     ]
    },
    {
     "name": "stdout",
     "output_type": "stream",
     "text": [
      "Epoch 76: 100%|██████████| 22/22 [00:24<00:00,  1.11s/it, loss=0.00637, v_num=2, train_loss_step=0.00555, val_loss=0.00579, train_loss_epoch=0.00645]"
     ]
    },
    {
     "name": "stderr",
     "output_type": "stream",
     "text": [
      "Metric val_loss improved by 0.000 >= min_delta = 0.0. New best score: 0.006\n"
     ]
    },
    {
     "name": "stdout",
     "output_type": "stream",
     "text": [
      "Epoch 78: 100%|██████████| 22/22 [00:24<00:00,  1.11s/it, loss=0.00635, v_num=2, train_loss_step=0.00536, val_loss=0.00577, train_loss_epoch=0.00641]"
     ]
    },
    {
     "name": "stderr",
     "output_type": "stream",
     "text": [
      "Metric val_loss improved by 0.000 >= min_delta = 0.0. New best score: 0.006\n"
     ]
    },
    {
     "name": "stdout",
     "output_type": "stream",
     "text": [
      "Epoch 79: 100%|██████████| 22/22 [00:24<00:00,  1.12s/it, loss=0.00634, v_num=2, train_loss_step=0.00654, val_loss=0.00577, train_loss_epoch=0.00639]"
     ]
    },
    {
     "name": "stderr",
     "output_type": "stream",
     "text": [
      "Metric val_loss improved by 0.000 >= min_delta = 0.0. New best score: 0.006\n"
     ]
    },
    {
     "name": "stdout",
     "output_type": "stream",
     "text": [
      "Epoch 80: 100%|██████████| 22/22 [00:24<00:00,  1.11s/it, loss=0.00635, v_num=2, train_loss_step=0.00556, val_loss=0.00574, train_loss_epoch=0.00639]"
     ]
    },
    {
     "name": "stderr",
     "output_type": "stream",
     "text": [
      "Metric val_loss improved by 0.000 >= min_delta = 0.0. New best score: 0.006\n"
     ]
    },
    {
     "name": "stdout",
     "output_type": "stream",
     "text": [
      "Epoch 81: 100%|██████████| 22/22 [00:24<00:00,  1.12s/it, loss=0.00633, v_num=2, train_loss_step=0.00678, val_loss=0.00573, train_loss_epoch=0.00635]"
     ]
    },
    {
     "name": "stderr",
     "output_type": "stream",
     "text": [
      "Metric val_loss improved by 0.000 >= min_delta = 0.0. New best score: 0.006\n"
     ]
    },
    {
     "name": "stdout",
     "output_type": "stream",
     "text": [
      "Epoch 82: 100%|██████████| 22/22 [00:24<00:00,  1.11s/it, loss=0.0063, v_num=2, train_loss_step=0.00526, val_loss=0.00572, train_loss_epoch=0.00636] "
     ]
    },
    {
     "name": "stderr",
     "output_type": "stream",
     "text": [
      "Metric val_loss improved by 0.000 >= min_delta = 0.0. New best score: 0.006\n"
     ]
    },
    {
     "name": "stdout",
     "output_type": "stream",
     "text": [
      "Epoch 83: 100%|██████████| 22/22 [00:24<00:00,  1.12s/it, loss=0.00625, v_num=2, train_loss_step=0.00603, val_loss=0.00571, train_loss_epoch=0.00634]"
     ]
    },
    {
     "name": "stderr",
     "output_type": "stream",
     "text": [
      "Metric val_loss improved by 0.000 >= min_delta = 0.0. New best score: 0.006\n"
     ]
    },
    {
     "name": "stdout",
     "output_type": "stream",
     "text": [
      "Epoch 85: 100%|██████████| 22/22 [00:24<00:00,  1.12s/it, loss=0.00625, v_num=2, train_loss_step=0.00532, val_loss=0.00571, train_loss_epoch=0.00636]"
     ]
    },
    {
     "name": "stderr",
     "output_type": "stream",
     "text": [
      "Metric val_loss improved by 0.000 >= min_delta = 0.0. New best score: 0.006\n"
     ]
    },
    {
     "name": "stdout",
     "output_type": "stream",
     "text": [
      "Epoch 86: 100%|██████████| 22/22 [00:24<00:00,  1.11s/it, loss=0.00634, v_num=2, train_loss_step=0.00761, val_loss=0.00568, train_loss_epoch=0.00627]"
     ]
    },
    {
     "name": "stderr",
     "output_type": "stream",
     "text": [
      "Metric val_loss improved by 0.000 >= min_delta = 0.0. New best score: 0.006\n"
     ]
    },
    {
     "name": "stdout",
     "output_type": "stream",
     "text": [
      "Epoch 87: 100%|██████████| 22/22 [00:24<00:00,  1.11s/it, loss=0.0063, v_num=2, train_loss_step=0.00591, val_loss=0.00567, train_loss_epoch=0.0063]  "
     ]
    },
    {
     "name": "stderr",
     "output_type": "stream",
     "text": [
      "Metric val_loss improved by 0.000 >= min_delta = 0.0. New best score: 0.006\n"
     ]
    },
    {
     "name": "stdout",
     "output_type": "stream",
     "text": [
      "Epoch 89:  73%|███████▎  | 16/22 [00:22<00:08,  1.39s/it, loss=0.00621, v_num=2, train_loss_step=0.00686, val_loss=0.00567, train_loss_epoch=0.00624]"
     ]
    },
    {
     "name": "stderr",
     "output_type": "stream",
     "text": [
      "/home/arturo/miniconda3/envs/graphnet/lib/python3.8/site-packages/pytorch_lightning/trainer/call.py:48: UserWarning: Detected KeyboardInterrupt, attempting graceful shutdown...\n",
      "  rank_zero_warn(\"Detected KeyboardInterrupt, attempting graceful shutdown...\")\n"
     ]
    }
   ],
   "source": [
    "trainer.fit(model, train_dataloader, val_dataloader)"
   ]
  },
  {
   "cell_type": "code",
   "execution_count": 13,
   "metadata": {},
   "outputs": [
    {
     "data": {
      "image/png": "[encoded data removed]",
      "text/plain": [
       "<Figure size 640x480 with 1 Axes>"
      ]
     },
     "metadata": {},
     "output_type": "display_data"
    }
   ],
   "source": [
    "import pandas as pd\n",
    "import matplotlib.pyplot as plt\n",
    "import numpy as np\n",
    "\n",
    "# ploteo del train loss y el validation loss\n",
    "version_nr = 2\n",
    "\n",
    "loss_file = pd.read_csv(f'lightning_logs/version_{version_nr}/metrics.csv')\n",
    "plt.plot(loss_file['val_loss'].loc[~np.isnan(loss_file['val_loss'])] , label='Validation Loss')\n",
    "plt.plot(loss_file['train_loss_epoch'].loc[~np.isnan(loss_file['train_loss_epoch'])], label='Train Loss')\n",
    "plt.yscale('log')\n",
    "plt.legend()\n",
    "plt.show()"
   ]
  },
  {
   "cell_type": "code",
   "execution_count": 39,
   "metadata": {},
   "outputs": [
    {
     "name": "stderr",
     "output_type": "stream",
     "text": [
      "/tmp/ipykernel_176006/975044634.py:1: FutureWarning: You are using `torch.load` with `weights_only=False` (the current default value), which uses the default pickle module implicitly. It is possible to construct malicious pickle data which will execute arbitrary code during unpickling (See https://github.com/pytorch/pytorch/blob/main/SECURITY.md#untrusted-models for more details). In a future release, the default value for `weights_only` will be flipped to `True`. This limits the functions that could be executed during unpickling. Arbitrary objects will no longer be allowed to be loaded via this mode unless they are explicitly allowlisted by the user via `torch.serialization.add_safe_globals`. We recommend you start setting `weights_only=True` for any use case where you don't have full control of the loaded file. Please open an issue on GitHub for any issues related to this experimental feature.\n",
      "  ckpt = torch.load('transformer_model.pth')\n"
     ]
    },
    {
     "data": {
      "text/plain": [
       "Transformer(\n",
       "  (loss): MSELoss()\n",
       "  (encoder): TransformerEncoder(\n",
       "    (layers): ModuleList(\n",
       "      (0-1): 2 x TransformerEncoderLayer(\n",
       "        (self_attn): MultiheadAttention(\n",
       "          (out_proj): NonDynamicallyQuantizableLinear(in_features=12, out_features=12, bias=True)\n",
       "        )\n",
       "        (linear1): Linear(in_features=12, out_features=20, bias=True)\n",
       "        (dropout): Dropout(p=0.1, inplace=False)\n",
       "        (linear2): Linear(in_features=20, out_features=12, bias=True)\n",
       "        (norm1): LayerNorm((12,), eps=1e-05, elementwise_affine=True)\n",
       "        (norm2): LayerNorm((12,), eps=1e-05, elementwise_affine=True)\n",
       "        (dropout1): Dropout(p=0.1, inplace=False)\n",
       "        (dropout2): Dropout(p=0.1, inplace=False)\n",
       "      )\n",
       "    )\n",
       "  )\n",
       "  (fc): Linear(in_features=12, out_features=1, bias=True)\n",
       ")"
      ]
     },
     "execution_count": 39,
     "metadata": {},
     "output_type": "execute_result"
    }
   ],
   "source": [
    "ckpt = torch.load('./transformer_model.pth')\n",
    "model.load_state_dict(ckpt)\n",
    "model"
   ]
  },
  {
   "cell_type": "code",
   "execution_count": 40,
   "metadata": {},
   "outputs": [
    {
     "name": "stdout",
     "output_type": "stream",
     "text": [
      "MAE: 2.8103493616128197\n",
      "MSE: 9.738864812349588\n"
     ]
    },
    {
     "data": {
      "image/png": "[encoded data removed]",
      "text/plain": [
       "<Figure size 640x480 with 1 Axes>"
      ]
     },
     "metadata": {},
     "output_type": "display_data"
    },
    {
     "data": {
      "image/png": "[encoded data removed]",
      "text/plain": [
       "<Figure size 640x480 with 1 Axes>"
      ]
     },
     "metadata": {},
     "output_type": "display_data"
    }
   ],
   "source": [
    "model.eval()\n",
    "\n",
    "# Predecimos los valores de test\n",
    "predictions = []\n",
    "truth = []\n",
    "with torch.no_grad():\n",
    "    for x, y in test_dataloader:\n",
    "        prediction = model(x)\n",
    "        predictions.append(prediction)\n",
    "        truth.append(y)\n",
    "        \n",
    "predictions = torch.cat(predictions).cpu().numpy()\n",
    "truth = torch.cat(truth).cpu().numpy()\n",
    "\n",
    "# Desnormalizamos los valores\n",
    "predictions = scaler.inverse_transform(np.concatenate((np.zeros((len(predictions), scaled_data.shape[1]-1)), predictions), axis=1))[:, -1]\n",
    "truth = scaler.inverse_transform(np.concatenate((np.zeros((len(truth), scaled_data.shape[1]-1)), truth), axis=1))[:, -1]\n",
    "\n",
    "# Calculamos el error\n",
    "error = np.abs(predictions - truth)\n",
    "print(f'MAE: {np.mean(error)}')\n",
    "print(f'MSE: {np.mean(error**2)}')\n",
    "\n",
    "# Comparacion de la prediccion con el valor real\n",
    "plt.plot(truth, label='Valor real')\n",
    "plt.plot(predictions, label='Prediccion')\n",
    "plt.title('Comparacion de la prediccion con el valor real')\n",
    "plt.xlabel('Tiempo[h]')\n",
    "plt.ylabel('pm2.5')\n",
    "plt.legend()\n",
    "plt.show()\n",
    "\n",
    "# Grafica del error\n",
    "plt.plot(error, label='Error')\n",
    "plt.xlabel('Tiempo[h]')\n",
    "plt.ylabel('Error')\n",
    "plt.show()"
   ]
  },
  {
   "cell_type": "code",
   "execution_count": null,
   "metadata": {},
   "outputs": [],
   "source": []
  }
 ],
 "metadata": {
  "kernelspec": {
   "display_name": "graphnet",
   "language": "python",
   "name": "python3"
  },
  "language_info": {
   "codemirror_mode": {
    "name": "ipython",
    "version": 3
   },
   "file_extension": ".py",
   "mimetype": "text/x-python",
   "name": "python",
   "nbconvert_exporter": "python",
   "pygments_lexer": "ipython3",
   "version": "3.8.16"
  }
 },
 "nbformat": 4,
 "nbformat_minor": 2
}
